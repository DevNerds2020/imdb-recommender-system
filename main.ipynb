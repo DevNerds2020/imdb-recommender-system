{
 "cells": [
  {
   "cell_type": "code",
   "execution_count": 1,
   "metadata": {},
   "outputs": [],
   "source": [
    "import pandas as pd\n",
    "import numpy as np\n",
    "from scipy.sparse.linalg import svds\n",
    "from sklearn.neighbors import NearestNeighbors\n",
    "from sklearn.metrics.pairwise import cosine_similarity\n",
    "\n",
    "from sklearn.preprocessing import MaxAbsScaler\n",
    "from sklearn.neighbors import NearestNeighbors"
   ]
  },
  {
   "cell_type": "code",
   "execution_count": 2,
   "metadata": {},
   "outputs": [],
   "source": [
    "anime_data = pd.read_csv('anime.csv')\n",
    "rating_data = pd.read_csv('rating.csv')"
   ]
  },
  {
   "cell_type": "code",
   "execution_count": 3,
   "metadata": {},
   "outputs": [
    {
     "data": {
      "text/html": [
       "<div>\n",
       "<style scoped>\n",
       "    .dataframe tbody tr th:only-of-type {\n",
       "        vertical-align: middle;\n",
       "    }\n",
       "\n",
       "    .dataframe tbody tr th {\n",
       "        vertical-align: top;\n",
       "    }\n",
       "\n",
       "    .dataframe thead th {\n",
       "        text-align: right;\n",
       "    }\n",
       "</style>\n",
       "<table border=\"1\" class=\"dataframe\">\n",
       "  <thead>\n",
       "    <tr style=\"text-align: right;\">\n",
       "      <th></th>\n",
       "      <th>anime_id</th>\n",
       "      <th>name</th>\n",
       "      <th>genre</th>\n",
       "      <th>type</th>\n",
       "      <th>episodes</th>\n",
       "      <th>rating</th>\n",
       "      <th>members</th>\n",
       "    </tr>\n",
       "  </thead>\n",
       "  <tbody>\n",
       "    <tr>\n",
       "      <th>0</th>\n",
       "      <td>32281</td>\n",
       "      <td>Kimi no Na wa.</td>\n",
       "      <td>Drama, Romance, School, Supernatural</td>\n",
       "      <td>Movie</td>\n",
       "      <td>1</td>\n",
       "      <td>9.37</td>\n",
       "      <td>200630</td>\n",
       "    </tr>\n",
       "    <tr>\n",
       "      <th>1</th>\n",
       "      <td>5114</td>\n",
       "      <td>Fullmetal Alchemist: Brotherhood</td>\n",
       "      <td>Action, Adventure, Drama, Fantasy, Magic, Mili...</td>\n",
       "      <td>TV</td>\n",
       "      <td>64</td>\n",
       "      <td>9.26</td>\n",
       "      <td>793665</td>\n",
       "    </tr>\n",
       "    <tr>\n",
       "      <th>2</th>\n",
       "      <td>28977</td>\n",
       "      <td>Gintama°</td>\n",
       "      <td>Action, Comedy, Historical, Parody, Samurai, S...</td>\n",
       "      <td>TV</td>\n",
       "      <td>51</td>\n",
       "      <td>9.25</td>\n",
       "      <td>114262</td>\n",
       "    </tr>\n",
       "    <tr>\n",
       "      <th>3</th>\n",
       "      <td>9253</td>\n",
       "      <td>Steins;Gate</td>\n",
       "      <td>Sci-Fi, Thriller</td>\n",
       "      <td>TV</td>\n",
       "      <td>24</td>\n",
       "      <td>9.17</td>\n",
       "      <td>673572</td>\n",
       "    </tr>\n",
       "    <tr>\n",
       "      <th>4</th>\n",
       "      <td>9969</td>\n",
       "      <td>Gintama&amp;#039;</td>\n",
       "      <td>Action, Comedy, Historical, Parody, Samurai, S...</td>\n",
       "      <td>TV</td>\n",
       "      <td>51</td>\n",
       "      <td>9.16</td>\n",
       "      <td>151266</td>\n",
       "    </tr>\n",
       "  </tbody>\n",
       "</table>\n",
       "</div>"
      ],
      "text/plain": [
       "   anime_id                              name  \\\n",
       "0     32281                    Kimi no Na wa.   \n",
       "1      5114  Fullmetal Alchemist: Brotherhood   \n",
       "2     28977                          Gintama°   \n",
       "3      9253                       Steins;Gate   \n",
       "4      9969                     Gintama&#039;   \n",
       "\n",
       "                                               genre   type episodes  rating  \\\n",
       "0               Drama, Romance, School, Supernatural  Movie        1    9.37   \n",
       "1  Action, Adventure, Drama, Fantasy, Magic, Mili...     TV       64    9.26   \n",
       "2  Action, Comedy, Historical, Parody, Samurai, S...     TV       51    9.25   \n",
       "3                                   Sci-Fi, Thriller     TV       24    9.17   \n",
       "4  Action, Comedy, Historical, Parody, Samurai, S...     TV       51    9.16   \n",
       "\n",
       "   members  \n",
       "0   200630  \n",
       "1   793665  \n",
       "2   114262  \n",
       "3   673572  \n",
       "4   151266  "
      ]
     },
     "execution_count": 3,
     "metadata": {},
     "output_type": "execute_result"
    }
   ],
   "source": [
    "anime_data.head()"
   ]
  },
  {
   "cell_type": "code",
   "execution_count": 4,
   "metadata": {},
   "outputs": [
    {
     "data": {
      "text/html": [
       "<div>\n",
       "<style scoped>\n",
       "    .dataframe tbody tr th:only-of-type {\n",
       "        vertical-align: middle;\n",
       "    }\n",
       "\n",
       "    .dataframe tbody tr th {\n",
       "        vertical-align: top;\n",
       "    }\n",
       "\n",
       "    .dataframe thead th {\n",
       "        text-align: right;\n",
       "    }\n",
       "</style>\n",
       "<table border=\"1\" class=\"dataframe\">\n",
       "  <thead>\n",
       "    <tr style=\"text-align: right;\">\n",
       "      <th></th>\n",
       "      <th>anime_id</th>\n",
       "      <th>rating</th>\n",
       "      <th>members</th>\n",
       "    </tr>\n",
       "  </thead>\n",
       "  <tbody>\n",
       "    <tr>\n",
       "      <th>count</th>\n",
       "      <td>12294.000000</td>\n",
       "      <td>12064.000000</td>\n",
       "      <td>1.229400e+04</td>\n",
       "    </tr>\n",
       "    <tr>\n",
       "      <th>mean</th>\n",
       "      <td>14058.221653</td>\n",
       "      <td>6.473902</td>\n",
       "      <td>1.807134e+04</td>\n",
       "    </tr>\n",
       "    <tr>\n",
       "      <th>std</th>\n",
       "      <td>11455.294701</td>\n",
       "      <td>1.026746</td>\n",
       "      <td>5.482068e+04</td>\n",
       "    </tr>\n",
       "    <tr>\n",
       "      <th>min</th>\n",
       "      <td>1.000000</td>\n",
       "      <td>1.670000</td>\n",
       "      <td>5.000000e+00</td>\n",
       "    </tr>\n",
       "    <tr>\n",
       "      <th>25%</th>\n",
       "      <td>3484.250000</td>\n",
       "      <td>5.880000</td>\n",
       "      <td>2.250000e+02</td>\n",
       "    </tr>\n",
       "    <tr>\n",
       "      <th>50%</th>\n",
       "      <td>10260.500000</td>\n",
       "      <td>6.570000</td>\n",
       "      <td>1.550000e+03</td>\n",
       "    </tr>\n",
       "    <tr>\n",
       "      <th>75%</th>\n",
       "      <td>24794.500000</td>\n",
       "      <td>7.180000</td>\n",
       "      <td>9.437000e+03</td>\n",
       "    </tr>\n",
       "    <tr>\n",
       "      <th>max</th>\n",
       "      <td>34527.000000</td>\n",
       "      <td>10.000000</td>\n",
       "      <td>1.013917e+06</td>\n",
       "    </tr>\n",
       "  </tbody>\n",
       "</table>\n",
       "</div>"
      ],
      "text/plain": [
       "           anime_id        rating       members\n",
       "count  12294.000000  12064.000000  1.229400e+04\n",
       "mean   14058.221653      6.473902  1.807134e+04\n",
       "std    11455.294701      1.026746  5.482068e+04\n",
       "min        1.000000      1.670000  5.000000e+00\n",
       "25%     3484.250000      5.880000  2.250000e+02\n",
       "50%    10260.500000      6.570000  1.550000e+03\n",
       "75%    24794.500000      7.180000  9.437000e+03\n",
       "max    34527.000000     10.000000  1.013917e+06"
      ]
     },
     "execution_count": 4,
     "metadata": {},
     "output_type": "execute_result"
    }
   ],
   "source": [
    "anime_data.describe()"
   ]
  },
  {
   "cell_type": "code",
   "execution_count": 5,
   "metadata": {},
   "outputs": [
    {
     "data": {
      "text/html": [
       "<div>\n",
       "<style scoped>\n",
       "    .dataframe tbody tr th:only-of-type {\n",
       "        vertical-align: middle;\n",
       "    }\n",
       "\n",
       "    .dataframe tbody tr th {\n",
       "        vertical-align: top;\n",
       "    }\n",
       "\n",
       "    .dataframe thead th {\n",
       "        text-align: right;\n",
       "    }\n",
       "</style>\n",
       "<table border=\"1\" class=\"dataframe\">\n",
       "  <thead>\n",
       "    <tr style=\"text-align: right;\">\n",
       "      <th></th>\n",
       "      <th>anime_id</th>\n",
       "      <th>rating</th>\n",
       "      <th>members</th>\n",
       "    </tr>\n",
       "  </thead>\n",
       "  <tbody>\n",
       "    <tr>\n",
       "      <th>count</th>\n",
       "      <td>11001.000000</td>\n",
       "      <td>11001.000000</td>\n",
       "      <td>1.100100e+04</td>\n",
       "    </tr>\n",
       "    <tr>\n",
       "      <th>mean</th>\n",
       "      <td>12705.071175</td>\n",
       "      <td>6.678809</td>\n",
       "      <td>1.999690e+04</td>\n",
       "    </tr>\n",
       "    <tr>\n",
       "      <th>std</th>\n",
       "      <td>10903.815886</td>\n",
       "      <td>0.806112</td>\n",
       "      <td>5.758749e+04</td>\n",
       "    </tr>\n",
       "    <tr>\n",
       "      <th>min</th>\n",
       "      <td>1.000000</td>\n",
       "      <td>5.010000</td>\n",
       "      <td>1.300000e+01</td>\n",
       "    </tr>\n",
       "    <tr>\n",
       "      <th>25%</th>\n",
       "      <td>3051.000000</td>\n",
       "      <td>6.100000</td>\n",
       "      <td>3.410000e+02</td>\n",
       "    </tr>\n",
       "    <tr>\n",
       "      <th>50%</th>\n",
       "      <td>9095.000000</td>\n",
       "      <td>6.670000</td>\n",
       "      <td>1.985000e+03</td>\n",
       "    </tr>\n",
       "    <tr>\n",
       "      <th>75%</th>\n",
       "      <td>22071.000000</td>\n",
       "      <td>7.250000</td>\n",
       "      <td>1.179400e+04</td>\n",
       "    </tr>\n",
       "    <tr>\n",
       "      <th>max</th>\n",
       "      <td>34519.000000</td>\n",
       "      <td>10.000000</td>\n",
       "      <td>1.013917e+06</td>\n",
       "    </tr>\n",
       "  </tbody>\n",
       "</table>\n",
       "</div>"
      ],
      "text/plain": [
       "           anime_id        rating       members\n",
       "count  11001.000000  11001.000000  1.100100e+04\n",
       "mean   12705.071175      6.678809  1.999690e+04\n",
       "std    10903.815886      0.806112  5.758749e+04\n",
       "min        1.000000      5.010000  1.300000e+01\n",
       "25%     3051.000000      6.100000  3.410000e+02\n",
       "50%     9095.000000      6.670000  1.985000e+03\n",
       "75%    22071.000000      7.250000  1.179400e+04\n",
       "max    34519.000000     10.000000  1.013917e+06"
      ]
     },
     "execution_count": 5,
     "metadata": {},
     "output_type": "execute_result"
    }
   ],
   "source": [
    "#delete the anime ratings that are below 5\n",
    "anime_data = anime_data[anime_data.rating > 5]\n",
    "anime_data.describe()"
   ]
  },
  {
   "cell_type": "code",
   "execution_count": 6,
   "metadata": {},
   "outputs": [
    {
     "data": {
      "text/html": [
       "<div>\n",
       "<style scoped>\n",
       "    .dataframe tbody tr th:only-of-type {\n",
       "        vertical-align: middle;\n",
       "    }\n",
       "\n",
       "    .dataframe tbody tr th {\n",
       "        vertical-align: top;\n",
       "    }\n",
       "\n",
       "    .dataframe thead th {\n",
       "        text-align: right;\n",
       "    }\n",
       "</style>\n",
       "<table border=\"1\" class=\"dataframe\">\n",
       "  <thead>\n",
       "    <tr style=\"text-align: right;\">\n",
       "      <th></th>\n",
       "      <th>user_id</th>\n",
       "      <th>anime_id</th>\n",
       "      <th>rating</th>\n",
       "    </tr>\n",
       "  </thead>\n",
       "  <tbody>\n",
       "    <tr>\n",
       "      <th>7813732</th>\n",
       "      <td>73515</td>\n",
       "      <td>16512</td>\n",
       "      <td>7</td>\n",
       "    </tr>\n",
       "    <tr>\n",
       "      <th>7813733</th>\n",
       "      <td>73515</td>\n",
       "      <td>17187</td>\n",
       "      <td>9</td>\n",
       "    </tr>\n",
       "    <tr>\n",
       "      <th>7813734</th>\n",
       "      <td>73515</td>\n",
       "      <td>22145</td>\n",
       "      <td>10</td>\n",
       "    </tr>\n",
       "    <tr>\n",
       "      <th>7813735</th>\n",
       "      <td>73516</td>\n",
       "      <td>790</td>\n",
       "      <td>9</td>\n",
       "    </tr>\n",
       "    <tr>\n",
       "      <th>7813736</th>\n",
       "      <td>73516</td>\n",
       "      <td>8074</td>\n",
       "      <td>9</td>\n",
       "    </tr>\n",
       "  </tbody>\n",
       "</table>\n",
       "</div>"
      ],
      "text/plain": [
       "         user_id  anime_id  rating\n",
       "7813732    73515     16512       7\n",
       "7813733    73515     17187       9\n",
       "7813734    73515     22145      10\n",
       "7813735    73516       790       9\n",
       "7813736    73516      8074       9"
      ]
     },
     "execution_count": 6,
     "metadata": {},
     "output_type": "execute_result"
    }
   ],
   "source": [
    "rating_data.tail()"
   ]
  },
  {
   "cell_type": "code",
   "execution_count": 4,
   "metadata": {},
   "outputs": [],
   "source": [
    "# Remove animes with missing ratings (-1)\n",
    "rating_data = rating_data[rating_data['rating'] != -1]\n",
    "\n",
    "# Merge anime and rating data based on anime ID\n",
    "merged_data = pd.merge(anime_data, rating_data, on='anime_id')"
   ]
  },
  {
   "cell_type": "code",
   "execution_count": 8,
   "metadata": {},
   "outputs": [],
   "source": [
    "anime_data = []\n",
    "rating_data = []"
   ]
  },
  {
   "cell_type": "code",
   "execution_count": 9,
   "metadata": {},
   "outputs": [
    {
     "data": {
      "text/html": [
       "<div>\n",
       "<style scoped>\n",
       "    .dataframe tbody tr th:only-of-type {\n",
       "        vertical-align: middle;\n",
       "    }\n",
       "\n",
       "    .dataframe tbody tr th {\n",
       "        vertical-align: top;\n",
       "    }\n",
       "\n",
       "    .dataframe thead th {\n",
       "        text-align: right;\n",
       "    }\n",
       "</style>\n",
       "<table border=\"1\" class=\"dataframe\">\n",
       "  <thead>\n",
       "    <tr style=\"text-align: right;\">\n",
       "      <th></th>\n",
       "      <th>anime_id</th>\n",
       "      <th>name</th>\n",
       "      <th>genre</th>\n",
       "      <th>type</th>\n",
       "      <th>episodes</th>\n",
       "      <th>rating_x</th>\n",
       "      <th>members</th>\n",
       "      <th>user_id</th>\n",
       "      <th>rating_y</th>\n",
       "    </tr>\n",
       "  </thead>\n",
       "  <tbody>\n",
       "    <tr>\n",
       "      <th>0</th>\n",
       "      <td>32281</td>\n",
       "      <td>Kimi no Na wa.</td>\n",
       "      <td>Drama, Romance, School, Supernatural</td>\n",
       "      <td>Movie</td>\n",
       "      <td>1</td>\n",
       "      <td>9.37</td>\n",
       "      <td>200630</td>\n",
       "      <td>99</td>\n",
       "      <td>5</td>\n",
       "    </tr>\n",
       "    <tr>\n",
       "      <th>1</th>\n",
       "      <td>32281</td>\n",
       "      <td>Kimi no Na wa.</td>\n",
       "      <td>Drama, Romance, School, Supernatural</td>\n",
       "      <td>Movie</td>\n",
       "      <td>1</td>\n",
       "      <td>9.37</td>\n",
       "      <td>200630</td>\n",
       "      <td>152</td>\n",
       "      <td>10</td>\n",
       "    </tr>\n",
       "    <tr>\n",
       "      <th>2</th>\n",
       "      <td>32281</td>\n",
       "      <td>Kimi no Na wa.</td>\n",
       "      <td>Drama, Romance, School, Supernatural</td>\n",
       "      <td>Movie</td>\n",
       "      <td>1</td>\n",
       "      <td>9.37</td>\n",
       "      <td>200630</td>\n",
       "      <td>244</td>\n",
       "      <td>10</td>\n",
       "    </tr>\n",
       "    <tr>\n",
       "      <th>3</th>\n",
       "      <td>32281</td>\n",
       "      <td>Kimi no Na wa.</td>\n",
       "      <td>Drama, Romance, School, Supernatural</td>\n",
       "      <td>Movie</td>\n",
       "      <td>1</td>\n",
       "      <td>9.37</td>\n",
       "      <td>200630</td>\n",
       "      <td>271</td>\n",
       "      <td>10</td>\n",
       "    </tr>\n",
       "    <tr>\n",
       "      <th>4</th>\n",
       "      <td>32281</td>\n",
       "      <td>Kimi no Na wa.</td>\n",
       "      <td>Drama, Romance, School, Supernatural</td>\n",
       "      <td>Movie</td>\n",
       "      <td>1</td>\n",
       "      <td>9.37</td>\n",
       "      <td>200630</td>\n",
       "      <td>322</td>\n",
       "      <td>10</td>\n",
       "    </tr>\n",
       "  </tbody>\n",
       "</table>\n",
       "</div>"
      ],
      "text/plain": [
       "   anime_id            name                                 genre   type  \\\n",
       "0     32281  Kimi no Na wa.  Drama, Romance, School, Supernatural  Movie   \n",
       "1     32281  Kimi no Na wa.  Drama, Romance, School, Supernatural  Movie   \n",
       "2     32281  Kimi no Na wa.  Drama, Romance, School, Supernatural  Movie   \n",
       "3     32281  Kimi no Na wa.  Drama, Romance, School, Supernatural  Movie   \n",
       "4     32281  Kimi no Na wa.  Drama, Romance, School, Supernatural  Movie   \n",
       "\n",
       "  episodes  rating_x  members  user_id  rating_y  \n",
       "0        1      9.37   200630       99         5  \n",
       "1        1      9.37   200630      152        10  \n",
       "2        1      9.37   200630      244        10  \n",
       "3        1      9.37   200630      271        10  \n",
       "4        1      9.37   200630      322        10  "
      ]
     },
     "execution_count": 9,
     "metadata": {},
     "output_type": "execute_result"
    }
   ],
   "source": [
    "merged_data.head()"
   ]
  },
  {
   "cell_type": "code",
   "execution_count": 10,
   "metadata": {},
   "outputs": [
    {
     "data": {
      "text/html": [
       "<div>\n",
       "<style scoped>\n",
       "    .dataframe tbody tr th:only-of-type {\n",
       "        vertical-align: middle;\n",
       "    }\n",
       "\n",
       "    .dataframe tbody tr th {\n",
       "        vertical-align: top;\n",
       "    }\n",
       "\n",
       "    .dataframe thead th {\n",
       "        text-align: right;\n",
       "    }\n",
       "</style>\n",
       "<table border=\"1\" class=\"dataframe\">\n",
       "  <thead>\n",
       "    <tr style=\"text-align: right;\">\n",
       "      <th></th>\n",
       "      <th>anime_id</th>\n",
       "      <th>rating_x</th>\n",
       "      <th>members</th>\n",
       "      <th>user_id</th>\n",
       "      <th>rating_y</th>\n",
       "    </tr>\n",
       "  </thead>\n",
       "  <tbody>\n",
       "    <tr>\n",
       "      <th>count</th>\n",
       "      <td>6.325661e+06</td>\n",
       "      <td>6.325661e+06</td>\n",
       "      <td>6.325661e+06</td>\n",
       "      <td>6.325661e+06</td>\n",
       "      <td>6.325661e+06</td>\n",
       "    </tr>\n",
       "    <tr>\n",
       "      <th>mean</th>\n",
       "      <td>8.896002e+03</td>\n",
       "      <td>7.681474e+00</td>\n",
       "      <td>1.848707e+05</td>\n",
       "      <td>3.674916e+04</td>\n",
       "      <td>7.814839e+00</td>\n",
       "    </tr>\n",
       "    <tr>\n",
       "      <th>std</th>\n",
       "      <td>8.876977e+03</td>\n",
       "      <td>6.521717e-01</td>\n",
       "      <td>1.909977e+05</td>\n",
       "      <td>2.101331e+04</td>\n",
       "      <td>1.563512e+00</td>\n",
       "    </tr>\n",
       "    <tr>\n",
       "      <th>min</th>\n",
       "      <td>1.000000e+00</td>\n",
       "      <td>5.010000e+00</td>\n",
       "      <td>3.700000e+01</td>\n",
       "      <td>1.000000e+00</td>\n",
       "      <td>1.000000e+00</td>\n",
       "    </tr>\n",
       "    <tr>\n",
       "      <th>25%</th>\n",
       "      <td>1.238000e+03</td>\n",
       "      <td>7.290000e+00</td>\n",
       "      <td>4.688700e+04</td>\n",
       "      <td>1.898500e+04</td>\n",
       "      <td>7.000000e+00</td>\n",
       "    </tr>\n",
       "    <tr>\n",
       "      <th>50%</th>\n",
       "      <td>6.211000e+03</td>\n",
       "      <td>7.700000e+00</td>\n",
       "      <td>1.175650e+05</td>\n",
       "      <td>3.681500e+04</td>\n",
       "      <td>8.000000e+00</td>\n",
       "    </tr>\n",
       "    <tr>\n",
       "      <th>75%</th>\n",
       "      <td>1.407500e+04</td>\n",
       "      <td>8.160000e+00</td>\n",
       "      <td>2.563250e+05</td>\n",
       "      <td>5.487700e+04</td>\n",
       "      <td>9.000000e+00</td>\n",
       "    </tr>\n",
       "    <tr>\n",
       "      <th>max</th>\n",
       "      <td>3.447500e+04</td>\n",
       "      <td>9.370000e+00</td>\n",
       "      <td>1.013917e+06</td>\n",
       "      <td>7.351600e+04</td>\n",
       "      <td>1.000000e+01</td>\n",
       "    </tr>\n",
       "  </tbody>\n",
       "</table>\n",
       "</div>"
      ],
      "text/plain": [
       "           anime_id      rating_x       members       user_id      rating_y\n",
       "count  6.325661e+06  6.325661e+06  6.325661e+06  6.325661e+06  6.325661e+06\n",
       "mean   8.896002e+03  7.681474e+00  1.848707e+05  3.674916e+04  7.814839e+00\n",
       "std    8.876977e+03  6.521717e-01  1.909977e+05  2.101331e+04  1.563512e+00\n",
       "min    1.000000e+00  5.010000e+00  3.700000e+01  1.000000e+00  1.000000e+00\n",
       "25%    1.238000e+03  7.290000e+00  4.688700e+04  1.898500e+04  7.000000e+00\n",
       "50%    6.211000e+03  7.700000e+00  1.175650e+05  3.681500e+04  8.000000e+00\n",
       "75%    1.407500e+04  8.160000e+00  2.563250e+05  5.487700e+04  9.000000e+00\n",
       "max    3.447500e+04  9.370000e+00  1.013917e+06  7.351600e+04  1.000000e+01"
      ]
     },
     "execution_count": 10,
     "metadata": {},
     "output_type": "execute_result"
    }
   ],
   "source": [
    "merged_data.describe()"
   ]
  },
  {
   "cell_type": "code",
   "execution_count": 11,
   "metadata": {},
   "outputs": [
    {
     "data": {
      "text/plain": [
       "(6325661, 9)"
      ]
     },
     "execution_count": 11,
     "metadata": {},
     "output_type": "execute_result"
    }
   ],
   "source": [
    "merged_data.shape"
   ]
  },
  {
   "cell_type": "code",
   "execution_count": 5,
   "metadata": {},
   "outputs": [
    {
     "data": {
      "text/plain": [
       "(6025702, 9)"
      ]
     },
     "execution_count": 5,
     "metadata": {},
     "output_type": "execute_result"
    }
   ],
   "source": [
    "# delete all the users that rated less that 10 animes\n",
    "merged_data = merged_data.groupby('user_id').filter(lambda x: len(x) >= 30)\n",
    "merged_data.shape"
   ]
  },
  {
   "cell_type": "code",
   "execution_count": 6,
   "metadata": {},
   "outputs": [
    {
     "data": {
      "text/plain": [
       "(6024582, 9)"
      ]
     },
     "execution_count": 6,
     "metadata": {},
     "output_type": "execute_result"
    }
   ],
   "source": [
    "#delete all the users that sum of ratings is less than 50\n",
    "merged_data = merged_data.groupby('user_id').filter(lambda x: x['rating_y'].sum() >= 200)\n",
    "merged_data.shape"
   ]
  },
  {
   "cell_type": "code",
   "execution_count": 7,
   "metadata": {},
   "outputs": [
    {
     "data": {
      "text/plain": [
       "(4879263, 9)"
      ]
     },
     "execution_count": 7,
     "metadata": {},
     "output_type": "execute_result"
    }
   ],
   "source": [
    "#delete all the animes that have less than 50 ratings\n",
    "merged_data = merged_data.groupby('anime_id').filter(lambda x: len(x) >= 1000)\n",
    "merged_data.shape"
   ]
  },
  {
   "cell_type": "code",
   "execution_count": 15,
   "metadata": {},
   "outputs": [
    {
     "data": {
      "text/plain": [
       "(41373, 1437)"
      ]
     },
     "execution_count": 15,
     "metadata": {},
     "output_type": "execute_result"
    }
   ],
   "source": [
    "# rating y => user rating rating x => anime rating\n",
    "ratings_matrix = merged_data.pivot_table(index='user_id', columns='anime_id', values='rating_y')\n",
    "ratings_matrix.shape"
   ]
  },
  {
   "cell_type": "code",
   "execution_count": 16,
   "metadata": {},
   "outputs": [
    {
     "data": {
      "text/html": [
       "<div>\n",
       "<style scoped>\n",
       "    .dataframe tbody tr th:only-of-type {\n",
       "        vertical-align: middle;\n",
       "    }\n",
       "\n",
       "    .dataframe tbody tr th {\n",
       "        vertical-align: top;\n",
       "    }\n",
       "\n",
       "    .dataframe thead th {\n",
       "        text-align: right;\n",
       "    }\n",
       "</style>\n",
       "<table border=\"1\" class=\"dataframe\">\n",
       "  <thead>\n",
       "    <tr style=\"text-align: right;\">\n",
       "      <th>anime_id</th>\n",
       "      <th>1</th>\n",
       "      <th>5</th>\n",
       "      <th>6</th>\n",
       "      <th>7</th>\n",
       "      <th>15</th>\n",
       "      <th>16</th>\n",
       "      <th>18</th>\n",
       "      <th>19</th>\n",
       "      <th>20</th>\n",
       "      <th>22</th>\n",
       "      <th>...</th>\n",
       "      <th>32281</th>\n",
       "      <th>32282</th>\n",
       "      <th>32379</th>\n",
       "      <th>32438</th>\n",
       "      <th>32542</th>\n",
       "      <th>32729</th>\n",
       "      <th>32828</th>\n",
       "      <th>32935</th>\n",
       "      <th>32998</th>\n",
       "      <th>34240</th>\n",
       "    </tr>\n",
       "    <tr>\n",
       "      <th>user_id</th>\n",
       "      <th></th>\n",
       "      <th></th>\n",
       "      <th></th>\n",
       "      <th></th>\n",
       "      <th></th>\n",
       "      <th></th>\n",
       "      <th></th>\n",
       "      <th></th>\n",
       "      <th></th>\n",
       "      <th></th>\n",
       "      <th></th>\n",
       "      <th></th>\n",
       "      <th></th>\n",
       "      <th></th>\n",
       "      <th></th>\n",
       "      <th></th>\n",
       "      <th></th>\n",
       "      <th></th>\n",
       "      <th></th>\n",
       "      <th></th>\n",
       "      <th></th>\n",
       "    </tr>\n",
       "  </thead>\n",
       "  <tbody>\n",
       "    <tr>\n",
       "      <th>3</th>\n",
       "      <td>NaN</td>\n",
       "      <td>NaN</td>\n",
       "      <td>NaN</td>\n",
       "      <td>NaN</td>\n",
       "      <td>NaN</td>\n",
       "      <td>NaN</td>\n",
       "      <td>NaN</td>\n",
       "      <td>NaN</td>\n",
       "      <td>8.0</td>\n",
       "      <td>NaN</td>\n",
       "      <td>...</td>\n",
       "      <td>NaN</td>\n",
       "      <td>NaN</td>\n",
       "      <td>NaN</td>\n",
       "      <td>NaN</td>\n",
       "      <td>NaN</td>\n",
       "      <td>NaN</td>\n",
       "      <td>NaN</td>\n",
       "      <td>NaN</td>\n",
       "      <td>NaN</td>\n",
       "      <td>NaN</td>\n",
       "    </tr>\n",
       "    <tr>\n",
       "      <th>5</th>\n",
       "      <td>NaN</td>\n",
       "      <td>NaN</td>\n",
       "      <td>8.0</td>\n",
       "      <td>NaN</td>\n",
       "      <td>6.0</td>\n",
       "      <td>NaN</td>\n",
       "      <td>6.0</td>\n",
       "      <td>NaN</td>\n",
       "      <td>6.0</td>\n",
       "      <td>5.0</td>\n",
       "      <td>...</td>\n",
       "      <td>NaN</td>\n",
       "      <td>NaN</td>\n",
       "      <td>NaN</td>\n",
       "      <td>NaN</td>\n",
       "      <td>NaN</td>\n",
       "      <td>NaN</td>\n",
       "      <td>7.0</td>\n",
       "      <td>NaN</td>\n",
       "      <td>NaN</td>\n",
       "      <td>NaN</td>\n",
       "    </tr>\n",
       "    <tr>\n",
       "      <th>7</th>\n",
       "      <td>NaN</td>\n",
       "      <td>NaN</td>\n",
       "      <td>NaN</td>\n",
       "      <td>NaN</td>\n",
       "      <td>NaN</td>\n",
       "      <td>NaN</td>\n",
       "      <td>NaN</td>\n",
       "      <td>NaN</td>\n",
       "      <td>NaN</td>\n",
       "      <td>7.0</td>\n",
       "      <td>...</td>\n",
       "      <td>NaN</td>\n",
       "      <td>NaN</td>\n",
       "      <td>NaN</td>\n",
       "      <td>NaN</td>\n",
       "      <td>NaN</td>\n",
       "      <td>NaN</td>\n",
       "      <td>NaN</td>\n",
       "      <td>NaN</td>\n",
       "      <td>NaN</td>\n",
       "      <td>NaN</td>\n",
       "    </tr>\n",
       "    <tr>\n",
       "      <th>11</th>\n",
       "      <td>NaN</td>\n",
       "      <td>NaN</td>\n",
       "      <td>NaN</td>\n",
       "      <td>NaN</td>\n",
       "      <td>NaN</td>\n",
       "      <td>NaN</td>\n",
       "      <td>NaN</td>\n",
       "      <td>NaN</td>\n",
       "      <td>NaN</td>\n",
       "      <td>NaN</td>\n",
       "      <td>...</td>\n",
       "      <td>NaN</td>\n",
       "      <td>NaN</td>\n",
       "      <td>NaN</td>\n",
       "      <td>NaN</td>\n",
       "      <td>NaN</td>\n",
       "      <td>NaN</td>\n",
       "      <td>NaN</td>\n",
       "      <td>NaN</td>\n",
       "      <td>NaN</td>\n",
       "      <td>NaN</td>\n",
       "    </tr>\n",
       "    <tr>\n",
       "      <th>14</th>\n",
       "      <td>NaN</td>\n",
       "      <td>NaN</td>\n",
       "      <td>NaN</td>\n",
       "      <td>NaN</td>\n",
       "      <td>NaN</td>\n",
       "      <td>NaN</td>\n",
       "      <td>NaN</td>\n",
       "      <td>NaN</td>\n",
       "      <td>NaN</td>\n",
       "      <td>NaN</td>\n",
       "      <td>...</td>\n",
       "      <td>NaN</td>\n",
       "      <td>NaN</td>\n",
       "      <td>NaN</td>\n",
       "      <td>NaN</td>\n",
       "      <td>NaN</td>\n",
       "      <td>NaN</td>\n",
       "      <td>NaN</td>\n",
       "      <td>NaN</td>\n",
       "      <td>NaN</td>\n",
       "      <td>NaN</td>\n",
       "    </tr>\n",
       "  </tbody>\n",
       "</table>\n",
       "<p>5 rows × 1437 columns</p>\n",
       "</div>"
      ],
      "text/plain": [
       "anime_id  1      5      6      7      15     16     18     19     20     \\\n",
       "user_id                                                                   \n",
       "3           NaN    NaN    NaN    NaN    NaN    NaN    NaN    NaN    8.0   \n",
       "5           NaN    NaN    8.0    NaN    6.0    NaN    6.0    NaN    6.0   \n",
       "7           NaN    NaN    NaN    NaN    NaN    NaN    NaN    NaN    NaN   \n",
       "11          NaN    NaN    NaN    NaN    NaN    NaN    NaN    NaN    NaN   \n",
       "14          NaN    NaN    NaN    NaN    NaN    NaN    NaN    NaN    NaN   \n",
       "\n",
       "anime_id  22     ...  32281  32282  32379  32438  32542  32729  32828  32935  \\\n",
       "user_id          ...                                                           \n",
       "3           NaN  ...    NaN    NaN    NaN    NaN    NaN    NaN    NaN    NaN   \n",
       "5           5.0  ...    NaN    NaN    NaN    NaN    NaN    NaN    7.0    NaN   \n",
       "7           7.0  ...    NaN    NaN    NaN    NaN    NaN    NaN    NaN    NaN   \n",
       "11          NaN  ...    NaN    NaN    NaN    NaN    NaN    NaN    NaN    NaN   \n",
       "14          NaN  ...    NaN    NaN    NaN    NaN    NaN    NaN    NaN    NaN   \n",
       "\n",
       "anime_id  32998  34240  \n",
       "user_id                 \n",
       "3           NaN    NaN  \n",
       "5           NaN    NaN  \n",
       "7           NaN    NaN  \n",
       "11          NaN    NaN  \n",
       "14          NaN    NaN  \n",
       "\n",
       "[5 rows x 1437 columns]"
      ]
     },
     "execution_count": 16,
     "metadata": {},
     "output_type": "execute_result"
    }
   ],
   "source": [
    "ratings_matrix.head()"
   ]
  },
  {
   "cell_type": "code",
   "execution_count": 17,
   "metadata": {},
   "outputs": [],
   "source": [
    "merged_data = []"
   ]
  },
  {
   "cell_type": "code",
   "execution_count": null,
   "metadata": {},
   "outputs": [],
   "source": [
    "# not the way that we are using right now\n",
    "user_similarity = cosine_similarity(ratings_matrix.fillna(0))"
   ]
  },
  {
   "cell_type": "code",
   "execution_count": 61,
   "metadata": {},
   "outputs": [],
   "source": [
    "user_similarity = []"
   ]
  },
  {
   "cell_type": "code",
   "execution_count": 18,
   "metadata": {},
   "outputs": [
    {
     "data": {
      "text/html": [
       "<div>\n",
       "<style scoped>\n",
       "    .dataframe tbody tr th:only-of-type {\n",
       "        vertical-align: middle;\n",
       "    }\n",
       "\n",
       "    .dataframe tbody tr th {\n",
       "        vertical-align: top;\n",
       "    }\n",
       "\n",
       "    .dataframe thead th {\n",
       "        text-align: right;\n",
       "    }\n",
       "</style>\n",
       "<table border=\"1\" class=\"dataframe\">\n",
       "  <thead>\n",
       "    <tr style=\"text-align: right;\">\n",
       "      <th>anime_id</th>\n",
       "      <th>1</th>\n",
       "      <th>5</th>\n",
       "      <th>6</th>\n",
       "      <th>7</th>\n",
       "      <th>15</th>\n",
       "      <th>16</th>\n",
       "      <th>18</th>\n",
       "      <th>19</th>\n",
       "      <th>20</th>\n",
       "      <th>22</th>\n",
       "      <th>...</th>\n",
       "      <th>32281</th>\n",
       "      <th>32282</th>\n",
       "      <th>32379</th>\n",
       "      <th>32438</th>\n",
       "      <th>32542</th>\n",
       "      <th>32729</th>\n",
       "      <th>32828</th>\n",
       "      <th>32935</th>\n",
       "      <th>32998</th>\n",
       "      <th>34240</th>\n",
       "    </tr>\n",
       "  </thead>\n",
       "  <tbody>\n",
       "    <tr>\n",
       "      <th>0</th>\n",
       "      <td>NaN</td>\n",
       "      <td>NaN</td>\n",
       "      <td>NaN</td>\n",
       "      <td>NaN</td>\n",
       "      <td>NaN</td>\n",
       "      <td>NaN</td>\n",
       "      <td>NaN</td>\n",
       "      <td>NaN</td>\n",
       "      <td>8.0</td>\n",
       "      <td>NaN</td>\n",
       "      <td>...</td>\n",
       "      <td>NaN</td>\n",
       "      <td>NaN</td>\n",
       "      <td>NaN</td>\n",
       "      <td>NaN</td>\n",
       "      <td>NaN</td>\n",
       "      <td>NaN</td>\n",
       "      <td>NaN</td>\n",
       "      <td>NaN</td>\n",
       "      <td>NaN</td>\n",
       "      <td>NaN</td>\n",
       "    </tr>\n",
       "    <tr>\n",
       "      <th>1</th>\n",
       "      <td>NaN</td>\n",
       "      <td>NaN</td>\n",
       "      <td>8.0</td>\n",
       "      <td>NaN</td>\n",
       "      <td>6.0</td>\n",
       "      <td>NaN</td>\n",
       "      <td>6.0</td>\n",
       "      <td>NaN</td>\n",
       "      <td>6.0</td>\n",
       "      <td>5.0</td>\n",
       "      <td>...</td>\n",
       "      <td>NaN</td>\n",
       "      <td>NaN</td>\n",
       "      <td>NaN</td>\n",
       "      <td>NaN</td>\n",
       "      <td>NaN</td>\n",
       "      <td>NaN</td>\n",
       "      <td>7.0</td>\n",
       "      <td>NaN</td>\n",
       "      <td>NaN</td>\n",
       "      <td>NaN</td>\n",
       "    </tr>\n",
       "    <tr>\n",
       "      <th>2</th>\n",
       "      <td>NaN</td>\n",
       "      <td>NaN</td>\n",
       "      <td>NaN</td>\n",
       "      <td>NaN</td>\n",
       "      <td>NaN</td>\n",
       "      <td>NaN</td>\n",
       "      <td>NaN</td>\n",
       "      <td>NaN</td>\n",
       "      <td>NaN</td>\n",
       "      <td>7.0</td>\n",
       "      <td>...</td>\n",
       "      <td>NaN</td>\n",
       "      <td>NaN</td>\n",
       "      <td>NaN</td>\n",
       "      <td>NaN</td>\n",
       "      <td>NaN</td>\n",
       "      <td>NaN</td>\n",
       "      <td>NaN</td>\n",
       "      <td>NaN</td>\n",
       "      <td>NaN</td>\n",
       "      <td>NaN</td>\n",
       "    </tr>\n",
       "    <tr>\n",
       "      <th>3</th>\n",
       "      <td>NaN</td>\n",
       "      <td>NaN</td>\n",
       "      <td>NaN</td>\n",
       "      <td>NaN</td>\n",
       "      <td>NaN</td>\n",
       "      <td>NaN</td>\n",
       "      <td>NaN</td>\n",
       "      <td>NaN</td>\n",
       "      <td>NaN</td>\n",
       "      <td>NaN</td>\n",
       "      <td>...</td>\n",
       "      <td>NaN</td>\n",
       "      <td>NaN</td>\n",
       "      <td>NaN</td>\n",
       "      <td>NaN</td>\n",
       "      <td>NaN</td>\n",
       "      <td>NaN</td>\n",
       "      <td>NaN</td>\n",
       "      <td>NaN</td>\n",
       "      <td>NaN</td>\n",
       "      <td>NaN</td>\n",
       "    </tr>\n",
       "    <tr>\n",
       "      <th>4</th>\n",
       "      <td>NaN</td>\n",
       "      <td>NaN</td>\n",
       "      <td>NaN</td>\n",
       "      <td>NaN</td>\n",
       "      <td>NaN</td>\n",
       "      <td>NaN</td>\n",
       "      <td>NaN</td>\n",
       "      <td>NaN</td>\n",
       "      <td>NaN</td>\n",
       "      <td>NaN</td>\n",
       "      <td>...</td>\n",
       "      <td>NaN</td>\n",
       "      <td>NaN</td>\n",
       "      <td>NaN</td>\n",
       "      <td>NaN</td>\n",
       "      <td>NaN</td>\n",
       "      <td>NaN</td>\n",
       "      <td>NaN</td>\n",
       "      <td>NaN</td>\n",
       "      <td>NaN</td>\n",
       "      <td>NaN</td>\n",
       "    </tr>\n",
       "  </tbody>\n",
       "</table>\n",
       "<p>5 rows × 1437 columns</p>\n",
       "</div>"
      ],
      "text/plain": [
       "anime_id  1      5      6      7      15     16     18     19     20     \\\n",
       "0           NaN    NaN    NaN    NaN    NaN    NaN    NaN    NaN    8.0   \n",
       "1           NaN    NaN    8.0    NaN    6.0    NaN    6.0    NaN    6.0   \n",
       "2           NaN    NaN    NaN    NaN    NaN    NaN    NaN    NaN    NaN   \n",
       "3           NaN    NaN    NaN    NaN    NaN    NaN    NaN    NaN    NaN   \n",
       "4           NaN    NaN    NaN    NaN    NaN    NaN    NaN    NaN    NaN   \n",
       "\n",
       "anime_id  22     ...  32281  32282  32379  32438  32542  32729  32828  32935  \\\n",
       "0           NaN  ...    NaN    NaN    NaN    NaN    NaN    NaN    NaN    NaN   \n",
       "1           5.0  ...    NaN    NaN    NaN    NaN    NaN    NaN    7.0    NaN   \n",
       "2           7.0  ...    NaN    NaN    NaN    NaN    NaN    NaN    NaN    NaN   \n",
       "3           NaN  ...    NaN    NaN    NaN    NaN    NaN    NaN    NaN    NaN   \n",
       "4           NaN  ...    NaN    NaN    NaN    NaN    NaN    NaN    NaN    NaN   \n",
       "\n",
       "anime_id  32998  34240  \n",
       "0           NaN    NaN  \n",
       "1           NaN    NaN  \n",
       "2           NaN    NaN  \n",
       "3           NaN    NaN  \n",
       "4           NaN    NaN  \n",
       "\n",
       "[5 rows x 1437 columns]"
      ]
     },
     "execution_count": 18,
     "metadata": {},
     "output_type": "execute_result"
    }
   ],
   "source": [
    "# replace user id with index\n",
    "ratings_matrix_index = ratings_matrix.reset_index(drop=True)\n",
    "ratings_matrix_index.head()"
   ]
  },
  {
   "cell_type": "code",
   "execution_count": 113,
   "metadata": {},
   "outputs": [
    {
     "data": {
      "text/plain": [
       "array([[nan, nan,  8., ..., nan, nan, nan]])"
      ]
     },
     "execution_count": 113,
     "metadata": {},
     "output_type": "execute_result"
    }
   ],
   "source": [
    "#find user with id 3 from ratings_matrix\n",
    "user_id = 5\n",
    "user = ratings_matrix.loc[user_id, :].values.reshape(1, -1)\n",
    "user"
   ]
  },
  {
   "cell_type": "code",
   "execution_count": 19,
   "metadata": {},
   "outputs": [],
   "source": [
    "#save rating matrix to csv\n",
    "ratings_matrix.to_csv('ratings_matrix.csv', index=False)\n",
    "ratings_matrix = []"
   ]
  },
  {
   "cell_type": "code",
   "execution_count": 112,
   "metadata": {},
   "outputs": [
    {
     "data": {
      "text/plain": [
       "array([[nan, nan,  8., ..., nan, nan, nan]])"
      ]
     },
     "execution_count": 112,
     "metadata": {},
     "output_type": "execute_result"
    }
   ],
   "source": [
    "#find user with id 42946 from ratings_matrix\n",
    "user_id = 1\n",
    "user = ratings_matrix_index.loc[user_id, :].values.reshape(1, -1)\n",
    "user"
   ]
  },
  {
   "cell_type": "code",
   "execution_count": 20,
   "metadata": {},
   "outputs": [],
   "source": [
    "ratings_matrix_index.to_csv('ratings_matrix_index.csv', index=False)"
   ]
  },
  {
   "cell_type": "code",
   "execution_count": 22,
   "metadata": {},
   "outputs": [
    {
     "data": {
      "text/html": [
       "<style>#sk-container-id-1 {color: black;background-color: white;}#sk-container-id-1 pre{padding: 0;}#sk-container-id-1 div.sk-toggleable {background-color: white;}#sk-container-id-1 label.sk-toggleable__label {cursor: pointer;display: block;width: 100%;margin-bottom: 0;padding: 0.3em;box-sizing: border-box;text-align: center;}#sk-container-id-1 label.sk-toggleable__label-arrow:before {content: \"▸\";float: left;margin-right: 0.25em;color: #696969;}#sk-container-id-1 label.sk-toggleable__label-arrow:hover:before {color: black;}#sk-container-id-1 div.sk-estimator:hover label.sk-toggleable__label-arrow:before {color: black;}#sk-container-id-1 div.sk-toggleable__content {max-height: 0;max-width: 0;overflow: hidden;text-align: left;background-color: #f0f8ff;}#sk-container-id-1 div.sk-toggleable__content pre {margin: 0.2em;color: black;border-radius: 0.25em;background-color: #f0f8ff;}#sk-container-id-1 input.sk-toggleable__control:checked~div.sk-toggleable__content {max-height: 200px;max-width: 100%;overflow: auto;}#sk-container-id-1 input.sk-toggleable__control:checked~label.sk-toggleable__label-arrow:before {content: \"▾\";}#sk-container-id-1 div.sk-estimator input.sk-toggleable__control:checked~label.sk-toggleable__label {background-color: #d4ebff;}#sk-container-id-1 div.sk-label input.sk-toggleable__control:checked~label.sk-toggleable__label {background-color: #d4ebff;}#sk-container-id-1 input.sk-hidden--visually {border: 0;clip: rect(1px 1px 1px 1px);clip: rect(1px, 1px, 1px, 1px);height: 1px;margin: -1px;overflow: hidden;padding: 0;position: absolute;width: 1px;}#sk-container-id-1 div.sk-estimator {font-family: monospace;background-color: #f0f8ff;border: 1px dotted black;border-radius: 0.25em;box-sizing: border-box;margin-bottom: 0.5em;}#sk-container-id-1 div.sk-estimator:hover {background-color: #d4ebff;}#sk-container-id-1 div.sk-parallel-item::after {content: \"\";width: 100%;border-bottom: 1px solid gray;flex-grow: 1;}#sk-container-id-1 div.sk-label:hover label.sk-toggleable__label {background-color: #d4ebff;}#sk-container-id-1 div.sk-serial::before {content: \"\";position: absolute;border-left: 1px solid gray;box-sizing: border-box;top: 0;bottom: 0;left: 50%;z-index: 0;}#sk-container-id-1 div.sk-serial {display: flex;flex-direction: column;align-items: center;background-color: white;padding-right: 0.2em;padding-left: 0.2em;position: relative;}#sk-container-id-1 div.sk-item {position: relative;z-index: 1;}#sk-container-id-1 div.sk-parallel {display: flex;align-items: stretch;justify-content: center;background-color: white;position: relative;}#sk-container-id-1 div.sk-item::before, #sk-container-id-1 div.sk-parallel-item::before {content: \"\";position: absolute;border-left: 1px solid gray;box-sizing: border-box;top: 0;bottom: 0;left: 50%;z-index: -1;}#sk-container-id-1 div.sk-parallel-item {display: flex;flex-direction: column;z-index: 1;position: relative;background-color: white;}#sk-container-id-1 div.sk-parallel-item:first-child::after {align-self: flex-end;width: 50%;}#sk-container-id-1 div.sk-parallel-item:last-child::after {align-self: flex-start;width: 50%;}#sk-container-id-1 div.sk-parallel-item:only-child::after {width: 0;}#sk-container-id-1 div.sk-dashed-wrapped {border: 1px dashed gray;margin: 0 0.4em 0.5em 0.4em;box-sizing: border-box;padding-bottom: 0.4em;background-color: white;}#sk-container-id-1 div.sk-label label {font-family: monospace;font-weight: bold;display: inline-block;line-height: 1.2em;}#sk-container-id-1 div.sk-label-container {text-align: center;}#sk-container-id-1 div.sk-container {/* jupyter's `normalize.less` sets `[hidden] { display: none; }` but bootstrap.min.css set `[hidden] { display: none !important; }` so we also need the `!important` here to be able to override the default hidden behavior on the sphinx rendered scikit-learn.org. See: https://github.com/scikit-learn/scikit-learn/issues/21755 */display: inline-block !important;position: relative;}#sk-container-id-1 div.sk-text-repr-fallback {display: none;}</style><div id=\"sk-container-id-1\" class=\"sk-top-container\"><div class=\"sk-text-repr-fallback\"><pre>NearestNeighbors(algorithm=&#x27;brute&#x27;, metric=&#x27;cosine&#x27;)</pre><b>In a Jupyter environment, please rerun this cell to show the HTML representation or trust the notebook. <br />On GitHub, the HTML representation is unable to render, please try loading this page with nbviewer.org.</b></div><div class=\"sk-container\" hidden><div class=\"sk-item\"><div class=\"sk-estimator sk-toggleable\"><input class=\"sk-toggleable__control sk-hidden--visually\" id=\"sk-estimator-id-1\" type=\"checkbox\" checked><label for=\"sk-estimator-id-1\" class=\"sk-toggleable__label sk-toggleable__label-arrow\">NearestNeighbors</label><div class=\"sk-toggleable__content\"><pre>NearestNeighbors(algorithm=&#x27;brute&#x27;, metric=&#x27;cosine&#x27;)</pre></div></div></div></div></div>"
      ],
      "text/plain": [
       "NearestNeighbors(algorithm='brute', metric='cosine')"
      ]
     },
     "execution_count": 22,
     "metadata": {},
     "output_type": "execute_result"
    }
   ],
   "source": [
    "# Convert ratings matrix to sparse format\n",
    "sparse_ratings = ratings_matrix_index.fillna(0).values\n",
    "\n",
    "# Create Nearest Neighbors model\n",
    "nn_model = NearestNeighbors(metric='cosine', algorithm='brute')\n",
    "nn_model.fit(sparse_ratings)"
   ]
  },
  {
   "cell_type": "code",
   "execution_count": 59,
   "metadata": {},
   "outputs": [],
   "source": [
    "def get_similar_users(user_id, n_neighbors=5):\n",
    "    # Find the nearest neighbors for the given user\n",
    "    distances, indices = nn_model.kneighbors([sparse_ratings[user_id]], n_neighbors+1)\n",
    "    # Exclude the first nearest neighbor (itself)\n",
    "    distances = distances.flatten()[1:]\n",
    "    indices = indices.flatten()[1:]\n",
    "    return indices, distances\n",
    "\n",
    "def make_recommendations(user_id, ratings_matrix, n_recommendations=5):\n",
    "    similar_users, _ = get_similar_users(user_id)\n",
    "    # print(\"similar_users\", similar_users)\n",
    "    user_ratings = ratings_matrix.loc[user_id].dropna()\n",
    "    # print(\"user_ratings\", user_ratings.dropna())\n",
    "    recommendations = []\n",
    "\n",
    "    \n",
    "    for similar_user in similar_users:\n",
    "        similar_user_ratings = ratings_matrix.loc[similar_user]\n",
    "        # print(\"similar_user_ratings\", similar_user_ratings)\n",
    "        for anime_id, rating in similar_user_ratings.iteritems():\n",
    "            if anime_id not in user_ratings and rating > 5:\n",
    "                # print(\"anime_id\", anime_id)\n",
    "                recommendations.append((anime_id, rating))\n",
    "    \n",
    "    return recommendations"
   ]
  },
  {
   "cell_type": "code",
   "execution_count": 43,
   "metadata": {},
   "outputs": [
    {
     "data": {
      "text/plain": [
       "anime_id\n",
       "6        8.0\n",
       "15       6.0\n",
       "18       6.0\n",
       "20       6.0\n",
       "22       5.0\n",
       "        ... \n",
       "29803    8.0\n",
       "30831    8.0\n",
       "31240    8.0\n",
       "32182    9.0\n",
       "32828    7.0\n",
       "Name: 1, Length: 367, dtype: float64"
      ]
     },
     "execution_count": 43,
     "metadata": {},
     "output_type": "execute_result"
    }
   ],
   "source": [
    "ratings_matrix_index.loc[1].dropna()"
   ]
  },
  {
   "cell_type": "code",
   "execution_count": 42,
   "metadata": {},
   "outputs": [
    {
     "data": {
      "text/plain": [
       "anime_id\n",
       "1        8.0\n",
       "6        7.0\n",
       "15       8.0\n",
       "16       6.0\n",
       "18       8.0\n",
       "        ... \n",
       "31764    7.0\n",
       "31964    8.0\n",
       "32093    8.0\n",
       "32182    9.0\n",
       "32282    9.0\n",
       "Name: 34092, Length: 434, dtype: float64"
      ]
     },
     "execution_count": 42,
     "metadata": {},
     "output_type": "execute_result"
    }
   ],
   "source": [
    "ratings_matrix_index.loc[34092].dropna()"
   ]
  },
  {
   "cell_type": "code",
   "execution_count": 62,
   "metadata": {},
   "outputs": [
    {
     "name": "stdout",
     "output_type": "stream",
     "text": [
      "recommendations [(1, 8.0), (16, 6.0), (28, 7.0), (33, 8.0), (44, 10.0), (60, 6.0), (61, 6.0), (71, 8.0), (72, 8.0), (73, 9.0), (74, 6.0), (79, 7.0), (102, 7.0), (120, 6.0), (121, 8.0), (135, 8.0), (154, 8.0), (161, 7.0), (164, 10.0), (177, 7.0), (187, 8.0), (210, 7.0), (227, 6.0), (237, 8.0), (270, 6.0), (317, 6.0), (330, 8.0), (355, 7.0), (356, 7.0), (372, 7.0), (401, 8.0), (430, 8.0), (431, 9.0), (433, 7.0), (457, 7.0), (462, 8.0), (464, 9.0), (469, 6.0), (479, 8.0), (523, 8.0), (558, 9.0), (587, 7.0), (627, 8.0), (658, 8.0), (777, 9.0), (849, 8.0), (857, 7.0), (889, 8.0), (901, 7.0), (953, 6.0), (969, 7.0), (1142, 6.0), (1250, 6.0), (1482, 8.0), (1519, 8.0), (1530, 6.0), (1536, 7.0), (1575, 9.0), (1604, 8.0), (1606, 7.0), (1686, 7.0), (1691, 8.0), (1698, 7.0), (1699, 7.0), (1722, 7.0), (1813, 7.0), (1842, 9.0), (2025, 8.0), (2026, 8.0), (2129, 6.0), (2167, 9.0), (2251, 9.0), (2593, 8.0), (2685, 7.0), (2759, 8.0), (2787, 7.0), (2889, 7.0), (2904, 8.0), (2924, 7.0), (2926, 7.0), (2927, 7.0), (2966, 8.0), (2985, 7.0), (2986, 7.0), (3002, 7.0), (3091, 8.0), (3226, 8.0), (3229, 6.0), (3299, 6.0), (3358, 7.0), (3467, 6.0), (3470, 7.0), (3782, 8.0), (3783, 8.0), (3848, 8.0), (3958, 8.0), (4059, 7.0), (4081, 7.0), (4155, 10.0), (4181, 8.0), (4186, 8.0), (4192, 8.0), (4280, 8.0), (4282, 8.0), (4477, 7.0), (4789, 7.0), (4835, 7.0), (4898, 6.0), (4918, 7.0), (4938, 7.0), (5028, 10.0), (5074, 7.0), (5079, 6.0), (5081, 9.0), (5114, 10.0), (5150, 7.0), (5204, 7.0), (5205, 8.0), (5300, 7.0), (5341, 9.0), (5530, 7.0), (5630, 7.0), (5682, 8.0), (5690, 7.0), (5781, 9.0), (5941, 7.0), (6007, 8.0), (6033, 8.0), (6045, 7.0), (6114, 7.0), (6213, 7.0), (6351, 8.0), (6408, 7.0), (6444, 8.0), (6572, 6.0), (6574, 6.0), (6594, 9.0), (6772, 8.0), (6864, 8.0), (6880, 6.0), (7054, 8.0), (7311, 8.0), (7338, 7.0), (7592, 7.0), (7662, 6.0), (7711, 8.0), (8086, 8.0), (8311, 8.0), (8425, 7.0), (8514, 7.0), (8676, 8.0), (8888, 7.0), (8937, 9.0), (9252, 7.0), (9465, 7.0), (9656, 7.0), (9724, 7.0), (9863, 7.0), (9941, 8.0), (10049, 7.0), (10079, 6.0), (10087, 7.0), (10092, 7.0), (10165, 8.0), (10294, 7.0), (10408, 8.0), (10460, 8.0), (10568, 7.0), (10721, 8.0), (11061, 10.0), (11111, 6.0), (11235, 8.0), (11597, 7.0), (11739, 8.0), (11741, 7.0), (11771, 8.0), (11887, 8.0), (11933, 7.0), (12175, 6.0), (12291, 8.0), (12365, 8.0), (12413, 8.0), (12531, 7.0), (12859, 10.0), (13331, 8.0), (13655, 6.0), (13667, 7.0), (14713, 6.0), (15197, 8.0), (16001, 8.0), (16005, 7.0), (16498, 7.0), (16524, 8.0), (17909, 7.0), (18119, 7.0), (18195, 8.0), (22101, 7.0), (22297, 7.0), (23283, 6.0), (24277, 8.0), (24415, 7.0), (24439, 7.0), (24833, 8.0), (25161, 8.0), (25879, 8.0), (26243, 6.0), (27821, 7.0), (28171, 9.0), (28223, 8.0), (28497, 6.0), (28623, 6.0), (28701, 7.0), (28825, 8.0), (28977, 10.0), (28999, 7.0), (29093, 8.0), (29095, 7.0), (29854, 7.0), (30276, 9.0), (30296, 7.0), (30503, 8.0), (30654, 9.0), (31764, 7.0), (31964, 8.0), (32093, 8.0), (32282, 9.0), (1, 9.0), (27, 7.0), (44, 7.0), (79, 8.0), (114, 10.0), (121, 9.0), (146, 6.0), (169, 8.0), (193, 6.0), (226, 8.0), (227, 8.0), (237, 8.0), (330, 8.0), (355, 8.0), (357, 8.0), (430, 9.0), (502, 7.0), (558, 9.0), (594, 7.0), (627, 9.0), (658, 9.0), (696, 9.0), (762, 8.0), (777, 10.0), (790, 8.0), (834, 8.0), (849, 6.0), (889, 8.0), (891, 7.0), (892, 7.0), (893, 8.0), (894, 7.0), (895, 7.0), (897, 7.0), (899, 7.0), (900, 9.0), (901, 9.0), (902, 8.0), (904, 9.0), (906, 8.0), (985, 8.0), (986, 7.0), (990, 8.0), (1074, 7.0), (1140, 7.0), (1218, 6.0), (1292, 7.0), (1482, 10.0), (1519, 8.0), (1530, 8.0), (1565, 7.0), (1575, 8.0), (1604, 9.0), (1686, 9.0), (1691, 6.0), (1722, 7.0), (1842, 9.0), (2001, 9.0), (2002, 8.0), (2025, 8.0), (2130, 7.0), (2167, 10.0), (2787, 8.0), (2889, 9.0), (2890, 10.0), (2904, 8.0), (2966, 7.0), (3001, 8.0), (3226, 9.0), (3229, 8.0), (3358, 7.0), (3467, 8.0), (3958, 7.0), (4106, 9.0), (4155, 10.0), (4177, 7.0), (4181, 10.0), (4186, 7.0), (4382, 7.0), (4744, 7.0), (4835, 8.0), (4970, 8.0), (5028, 9.0), (5081, 10.0), (5114, 10.0), (5152, 8.0), (5177, 8.0), (5341, 8.0), (5671, 7.0), (5734, 6.0), (5772, 7.0), (5781, 10.0), (5909, 8.0), (5940, 7.0), (6023, 6.0), (6033, 10.0), (6166, 7.0), (6205, 8.0), (6594, 10.0), (6747, 8.0), (6773, 8.0), (6862, 7.0), (6880, 7.0), (7465, 9.0), (7472, 10.0), (7590, 7.0), (8086, 9.0), (8246, 8.0), (8247, 8.0), (8425, 10.0), (8630, 8.0), (8676, 9.0), (8861, 8.0), (8937, 8.0), (9135, 9.0), (9513, 10.0), (9515, 7.0), (9736, 8.0), (9790, 9.0), (9922, 6.0), (10079, 9.0), (10165, 9.0), (10213, 7.0), (10294, 8.0), (10408, 9.0), (10456, 8.0), (10464, 7.0), (10588, 8.0), (10611, 7.0), (10620, 9.0), (10793, 7.0), (11061, 10.0), (11235, 8.0), (11491, 6.0), (11597, 10.0), (11771, 9.0), (11837, 7.0), (11887, 9.0), (11933, 9.0), (12175, 8.0), (12291, 10.0), (12293, 8.0), (12365, 10.0), (12413, 9.0), (12487, 8.0), (12859, 9.0), (12883, 8.0), (12893, 8.0), (12967, 6.0), (13331, 9.0), (13587, 7.0), (13601, 9.0), (13655, 7.0), (13667, 8.0), (13939, 8.0), (14289, 8.0), (14345, 8.0), (14765, 8.0), (14811, 8.0), (14833, 8.0), (14837, 9.0), (14921, 7.0), (15109, 7.0), (15377, 8.0), (15689, 10.0), (15699, 8.0), (16001, 9.0), (16005, 8.0), (16355, 7.0), (16498, 10.0), (16524, 7.0), (16668, 7.0), (16934, 8.0), (17074, 10.0), (17831, 8.0), (18119, 9.0), (18195, 8.0), (18245, 8.0), (18295, 8.0), (18507, 7.0), (18679, 9.0), (19151, 7.0), (19685, 7.0), (21843, 7.0), (21855, 9.0), (21881, 6.0), (22265, 7.0), (22297, 8.0), (22663, 7.0), (22687, 8.0), (22865, 7.0), (22877, 6.0), (23283, 8.0), (23311, 8.0), (23321, 7.0), (23421, 7.0), (24031, 7.0), (24415, 9.0), (24439, 7.0), (24455, 8.0), (24703, 7.0), (25283, 6.0), (25879, 8.0), (26243, 7.0), (27775, 7.0), (28025, 9.0), (28171, 9.0), (28223, 8.0), (28497, 7.0), (28701, 8.0), (28977, 10.0), (28999, 8.0), (29067, 7.0), (29095, 8.0), (30276, 10.0), (30307, 7.0), (16, 8.0), (19, 9.0), (32, 8.0), (33, 8.0), (43, 9.0), (59, 8.0), (71, 8.0), (73, 7.0), (79, 8.0), (101, 7.0), (121, 8.0), (147, 9.0), (160, 8.0), (164, 9.0), (226, 9.0), (237, 9.0), (256, 7.0), (270, 9.0), (322, 10.0), (355, 8.0), (356, 8.0), (357, 7.0), (376, 8.0), (387, 9.0), (412, 7.0), (431, 9.0), (433, 10.0), (457, 10.0), (460, 7.0), (461, 6.0), (462, 8.0), (463, 8.0), (464, 7.0), (465, 7.0), (477, 10.0), (486, 9.0), (502, 6.0), (512, 9.0), (513, 9.0), (523, 9.0), (558, 9.0), (572, 9.0), (578, 9.0), (585, 9.0), (587, 9.0), (594, 7.0), (627, 8.0), (634, 8.0), (658, 9.0), (670, 8.0), (710, 9.0), (759, 9.0), (770, 8.0), (777, 9.0), (789, 7.0), (849, 8.0), (857, 8.0), (877, 10.0), (889, 9.0), (891, 7.0), (892, 7.0), (893, 8.0), (894, 7.0), (895, 7.0), (897, 6.0), (899, 6.0), (900, 8.0), (901, 9.0), (902, 7.0), (904, 7.0), (906, 8.0), (934, 10.0), (940, 8.0), (985, 7.0), (986, 7.0), (1004, 9.0), (1015, 7.0), (1066, 6.0), (1074, 7.0), (1118, 6.0), (1119, 6.0), (1121, 6.0), (1142, 8.0), (1222, 7.0), (1482, 8.0), (1519, 8.0), (1526, 7.0), (1530, 8.0), (1531, 7.0), (1565, 6.0), (1575, 8.0), (1604, 8.0), (1686, 9.0), (1690, 8.0), (1698, 9.0), (1709, 6.0), (1723, 10.0), (1726, 8.0), (1813, 8.0), (1842, 9.0), (1889, 10.0), (1894, 7.0), (1965, 8.0), (2001, 10.0), (2025, 8.0), (2026, 8.0), (2107, 6.0), (2129, 9.0), (2131, 7.0), (2164, 9.0), (2167, 10.0), (2201, 6.0), (2476, 8.0), (2494, 7.0), (2593, 9.0), (2596, 9.0), (2759, 8.0), (2787, 8.0), (2889, 8.0), (2890, 8.0), (2904, 9.0), (2924, 7.0), (2926, 8.0), (2963, 7.0), (2966, 10.0), (2969, 7.0), (3002, 9.0), (3087, 7.0), (3167, 10.0), (3225, 7.0), (3226, 9.0), (3229, 9.0), (3299, 9.0), (3420, 7.0), (3457, 8.0), (3572, 9.0), (3652, 8.0), (3667, 7.0), (3782, 9.0), (3783, 9.0), (3784, 9.0), (3785, 8.0), (3791, 7.0), (3848, 6.0), (3956, 6.0), (3958, 7.0), (4026, 7.0), (4059, 10.0), (4081, 10.0), (4087, 9.0), (4107, 7.0), (4134, 10.0), (4155, 7.0), (4181, 10.0), (4182, 8.0), (4186, 7.0), (4192, 9.0), (4280, 9.0), (4282, 9.0), (4477, 9.0), (4535, 9.0), (4565, 9.0), (4618, 9.0), (4720, 7.0), (4725, 8.0), (4744, 7.0), (4835, 7.0), (4872, 6.0), (4884, 8.0), (5028, 9.0), (5030, 7.0), (5074, 8.0), (5079, 8.0), (5081, 9.0), (5112, 7.0), (5152, 8.0), (5162, 7.0), (5177, 7.0), (5204, 9.0), (5205, 10.0), (5300, 10.0), (5341, 10.0), (5355, 8.0), (5356, 8.0), (5365, 9.0), (5507, 8.0), (5521, 8.0), (5630, 9.0), (5671, 8.0), (5682, 8.0), (5690, 9.0), (5734, 7.0), (5764, 7.0), (5909, 8.0), (5940, 8.0), (5941, 10.0), (5978, 7.0), (6007, 9.0), (6030, 8.0), (6045, 7.0), (6114, 9.0), (6166, 8.0), (6178, 7.0), (6205, 8.0), (6213, 8.0), (6351, 10.0), (6372, 9.0), (6381, 8.0), (6572, 7.0), (6573, 9.0), (6594, 9.0), (6610, 8.0), (6634, 7.0), (6637, 9.0), (6675, 9.0), (6773, 9.0), (6802, 8.0), (6862, 8.0), (6880, 9.0), (6922, 7.0), (6954, 9.0), (7017, 6.0), (7054, 8.0), (7059, 7.0), (7079, 7.0), (7193, 8.0), (7311, 9.0), (7338, 9.0), (7465, 9.0), (7472, 9.0), (7711, 9.0), (7724, 9.0), (8129, 8.0), (8142, 10.0), (8246, 7.0), (8247, 6.0), (8425, 8.0), (8460, 7.0), (8630, 7.0), (8676, 9.0), (8740, 7.0), (8861, 7.0), (8876, 8.0), (8937, 7.0), (9201, 8.0), (9289, 10.0), (9330, 9.0), (9513, 9.0), (9515, 7.0), (9617, 10.0), (9656, 9.0), (9712, 7.0), (9734, 8.0), (9736, 7.0), (9756, 9.0), (9760, 9.0), (9834, 8.0), (9863, 9.0), (9922, 8.0), (9925, 9.0), (9941, 9.0), (10029, 9.0), (10067, 6.0), (10076, 7.0), (10079, 7.0), (10083, 8.0), (10087, 10.0), (10155, 7.0), (10156, 8.0), (10165, 10.0), (10213, 7.0), (10218, 9.0), (10271, 9.0), (10278, 9.0), (10357, 9.0), (10372, 7.0), (10379, 10.0), (10408, 9.0), (10464, 9.0), (10490, 7.0), (10495, 8.0), (10568, 9.0), (10572, 7.0), (10578, 8.0), (10588, 8.0), (10620, 9.0), (10681, 7.0), (10711, 9.0), (10721, 8.0), (10793, 9.0), (10794, 7.0), (10798, 9.0), (10800, 10.0), (11061, 9.0), (11111, 8.0), (11227, 7.0), (11235, 9.0), (11241, 8.0), (11285, 9.0), (11553, 9.0), (11597, 7.0), (11665, 10.0), (11701, 8.0), (11703, 7.0), (11741, 10.0), (11751, 8.0), (11771, 9.0), (11783, 8.0), (11837, 7.0), (11887, 8.0), (11933, 9.0), (11979, 9.0), (11981, 10.0), (12079, 8.0), (12113, 9.0), (12115, 9.0), (12175, 8.0), (12355, 10.0), (12365, 9.0), (12403, 8.0), (12413, 9.0), (12471, 9.0), (12477, 10.0), (12531, 9.0), (12893, 9.0), (12967, 7.0), (13125, 10.0), (13331, 9.0), (13391, 8.0), (13411, 7.0), (13469, 8.0), (13587, 8.0), (13599, 8.0), (13601, 9.0), (13655, 9.0), (13667, 8.0), (13807, 7.0), (13939, 8.0), (14075, 9.0), (14131, 8.0), (14283, 7.0), (14289, 8.0), (14293, 9.0), (14345, 9.0), (14353, 9.0), (14397, 9.0), (14713, 8.0), (14765, 7.0), (14811, 9.0), (14829, 8.0), (14833, 8.0), (14837, 8.0), (15037, 7.0), (15051, 8.0), (15085, 8.0), (15117, 9.0), (15377, 7.0), (15689, 9.0), (15699, 8.0), (16001, 9.0), (16009, 9.0), (16035, 8.0), (16049, 8.0), (16157, 8.0), (16397, 7.0), (16498, 9.0), (16512, 8.0), (16524, 8.0), (16528, 9.0), (16662, 9.0), (16668, 8.0), (16732, 9.0), (16762, 9.0), (16870, 8.0), (16890, 8.0), (16904, 8.0), (16916, 9.0), (16934, 9.0), (17074, 10.0), (17082, 7.0), (17549, 9.0), (17831, 7.0), (17909, 9.0), (18119, 9.0), (18195, 10.0), (18245, 9.0), (18295, 9.0), (18397, 8.0), (18507, 9.0), (18679, 9.0), (18767, 7.0), (18893, 9.0), (19111, 10.0), (19117, 9.0), (19151, 7.0), (19429, 9.0), (19489, 8.0), (19685, 7.0), (19703, 9.0), (19775, 9.0), (20021, 8.0), (20509, 8.0), (20709, 9.0), (21105, 8.0), (21273, 9.0), (21329, 9.0), (21339, 8.0), (21353, 7.0), (21437, 9.0), (21511, 8.0), (21557, 9.0), (21659, 9.0), (21681, 8.0), (21743, 8.0), (21843, 9.0), (21855, 9.0), (21881, 8.0), (21939, 9.0), (21995, 9.0), (22135, 9.0), (22265, 9.0), (22273, 9.0), (22297, 10.0), (22547, 6.0), (22663, 7.0), (22687, 7.0), (22729, 9.0), (22865, 8.0), (22877, 7.0), (22961, 8.0), (23281, 9.0), (23283, 9.0), (23321, 8.0), (23327, 9.0), (23385, 8.0), (23421, 8.0), (23623, 9.0), (23673, 8.0), (23945, 9.0), (24031, 7.0), (24037, 9.0), (24211, 7.0), (24227, 7.0), (24231, 8.0), (24277, 9.0), (24415, 9.0), (24439, 9.0), (24455, 7.0), (24701, 10.0), (24703, 7.0), (24705, 7.0), (24765, 9.0), (24833, 8.0), (24893, 8.0), (25013, 9.0), (25681, 9.0), (25731, 8.0), (25781, 8.0), (25835, 10.0), (25879, 8.0), (26243, 7.0), (26351, 7.0), (27631, 8.0), (27655, 8.0), (27775, 9.0), (27787, 7.0), (27821, 9.0), (27831, 8.0), (27833, 8.0), (27891, 7.0), (27989, 9.0), (28025, 9.0), (28069, 8.0), (28171, 9.0), (28223, 10.0), (28249, 8.0), (28387, 9.0), (28497, 8.0), (28617, 7.0), (28619, 7.0), (28621, 8.0), (28623, 7.0), (28675, 9.0), (28701, 9.0), (28755, 8.0), (28805, 9.0), (28825, 8.0), (28927, 8.0), (28977, 10.0), (28999, 7.0), (29067, 8.0), (29093, 9.0), (29095, 8.0), (29854, 8.0), (30015, 10.0), (30123, 9.0), (30187, 8.0), (30205, 8.0), (30240, 9.0), (30276, 9.0), (30296, 8.0), (30307, 9.0), (30503, 9.0), (30544, 7.0), (30654, 9.0), (30911, 8.0), (31043, 10.0), (31163, 7.0), (31173, 8.0), (31181, 9.0), (31376, 9.0), (31404, 7.0), (31405, 7.0), (31442, 7.0), (31559, 7.0), (31580, 8.0), (31636, 7.0), (31637, 9.0), (31704, 9.0), (31741, 8.0), (31764, 8.0), (31798, 8.0), (31821, 7.0), (31859, 8.0), (31953, 8.0), (31964, 9.0), (32093, 8.0), (32282, 9.0), (32438, 6.0), (32542, 8.0), (32935, 10.0), (32998, 8.0), (34240, 9.0), (1, 10.0), (5, 7.0), (31, 9.0), (32, 9.0), (33, 8.0), (44, 10.0), (46, 9.0), (80, 8.0), (102, 7.0), (121, 10.0), (154, 8.0), (226, 9.0), (246, 7.0), (257, 7.0), (270, 9.0), (355, 7.0), (356, 8.0), (376, 7.0), (384, 7.0), (395, 7.0), (401, 9.0), (430, 8.0), (449, 7.0), (450, 7.0), (451, 7.0), (452, 7.0), (457, 8.0), (459, 7.0), (460, 7.0), (461, 7.0), (462, 8.0), (463, 8.0), (464, 8.0), (465, 7.0), (478, 7.0), (502, 8.0), (509, 7.0), (530, 7.0), (591, 7.0), (594, 6.0), (762, 7.0), (777, 10.0), (790, 8.0), (793, 7.0), (834, 6.0), (837, 7.0), (849, 10.0), (857, 7.0), (886, 7.0), (891, 7.0), (892, 7.0), (893, 8.0), (894, 8.0), (895, 7.0), (897, 8.0), (899, 7.0), (900, 8.0), (901, 8.0), (902, 7.0), (904, 7.0), (906, 8.0), (908, 8.0), (985, 8.0), (986, 9.0), (1066, 7.0), (1118, 7.0), (1119, 7.0), (1120, 7.0), (1121, 7.0), (1122, 8.0), (1292, 7.0), (1430, 8.0), (1482, 8.0), (1526, 7.0), (1531, 8.0), (1565, 8.0), (1575, 10.0), (1579, 6.0), (1604, 9.0), (1686, 7.0), (1691, 7.0), (1726, 6.0), (1813, 6.0), (1815, 7.0), (1818, 9.0), (1894, 7.0), (1943, 8.0), (1953, 8.0), (2001, 10.0), (2006, 7.0), (2025, 8.0), (2026, 8.0), (2107, 7.0), (2201, 7.0), (2251, 9.0), (2385, 7.0), (2386, 7.0), (2476, 6.0), (2581, 7.0), (2759, 8.0), (2787, 6.0), (2847, 7.0), (2889, 8.0), (2904, 10.0), (2951, 10.0), (2963, 8.0), (2994, 8.0), (3091, 8.0), (3225, 7.0), (3366, 6.0), (3420, 7.0), (3457, 7.0), (3667, 7.0), (3784, 9.0), (3785, 9.0), (3791, 7.0), (3848, 7.0), (3901, 9.0), (3927, 7.0), (3956, 7.0), (4026, 7.0), (4107, 8.0), (4134, 6.0), (4155, 9.0), (4163, 7.0), (4182, 6.0), (4192, 7.0), (4196, 7.0), (4382, 10.0), (4565, 8.0), (4719, 6.0), (4720, 6.0), (4744, 6.0), (4752, 7.0), (4835, 7.0), (4872, 7.0), (4918, 7.0), (4970, 7.0), (5060, 8.0), (5081, 10.0), (5112, 6.0), (5114, 10.0), (5118, 9.0), (5152, 7.0), (5162, 7.0), (5355, 8.0), (5521, 7.0), (5630, 8.0), (5671, 7.0), (5764, 7.0), (5772, 6.0), (5781, 8.0), (5909, 7.0), (6033, 9.0), (6045, 9.0), (6127, 7.0), (6166, 6.0), (6178, 8.0), (6205, 7.0), (6372, 7.0), (6381, 7.0), (6421, 9.0), (6572, 6.0), (6573, 7.0), (6634, 8.0), (6637, 7.0), (6682, 6.0), (6772, 7.0), (6773, 7.0), (6811, 8.0), (6862, 8.0), (6864, 7.0), (6880, 8.0), (6922, 8.0), (6945, 10.0), (7017, 7.0), (7054, 9.0), (7311, 10.0), (7337, 7.0), (7338, 7.0), (7472, 10.0), (7592, 9.0), (7724, 9.0), (7739, 6.0), (7805, 6.0), (8246, 6.0), (8247, 8.0), (8460, 7.0), (8479, 8.0), (8514, 8.0), (8630, 6.0), (8740, 9.0), (8857, 7.0), (8861, 6.0), (8876, 7.0), (8888, 7.0), (9047, 7.0), (9062, 7.0), (9135, 8.0), (9201, 7.0), (9252, 7.0), (9289, 8.0), (9366, 7.0), (9465, 7.0), (9513, 10.0), (9515, 7.0), (9587, 6.0), (9617, 8.0), (9618, 6.0), (9656, 9.0), (9675, 7.0), (9724, 8.0), (9734, 7.0), (9736, 7.0), (9750, 6.0), (9756, 9.0), (9776, 7.0), (9863, 9.0), (9982, 7.0), (10049, 9.0), (10067, 7.0), (10076, 7.0), (10083, 9.0), (10087, 10.0), (10092, 7.0), (10152, 7.0), (10155, 7.0), (10165, 9.0), (10213, 7.0), (10218, 8.0), (10278, 7.0), (10298, 7.0), (10321, 7.0), (10418, 6.0), (10464, 7.0), (10495, 8.0), (10588, 7.0), (10604, 6.0), (10620, 9.0), (10647, 7.0), (10711, 8.0), (10793, 8.0), (10794, 6.0), (10800, 8.0), (11061, 10.0), (11077, 8.0), (11079, 7.0), (11111, 8.0), (11241, 7.0), (11266, 8.0), (11285, 6.0), (11553, 8.0), (11597, 9.0), (11701, 7.0), (11703, 8.0), (11737, 9.0), (11741, 10.0), (11771, 9.0), (11783, 7.0), (11887, 8.0), (11933, 7.0), (11977, 9.0), (11979, 9.0), (11981, 9.0), (12049, 8.0), (12079, 6.0), (12113, 8.0), (12115, 8.0), (12175, 6.0), (12291, 8.0), (12293, 6.0), (12355, 10.0), (12365, 10.0), (12403, 8.0), (12413, 9.0), (12477, 8.0), (12565, 7.0), (12685, 7.0), (12711, 7.0), (12859, 9.0), (12893, 9.0), (13271, 8.0), (13331, 9.0), (13411, 7.0), (13469, 7.0), (13587, 7.0), (13601, 10.0), (13667, 7.0), (13939, 7.0), (14075, 10.0), (14345, 8.0), (14353, 8.0), (14397, 8.0), (14407, 7.0), (14713, 8.0), (14765, 8.0), (14811, 7.0), (14829, 7.0), (14833, 8.0), (14837, 9.0), (14893, 7.0), (15051, 6.0), (15117, 8.0), (15197, 8.0), (15687, 7.0), (15689, 10.0), (15699, 7.0), (15751, 8.0), (15879, 7.0), (16001, 7.0), (16009, 7.0), (16099, 7.0), (16157, 6.0), (16498, 10.0), (16732, 6.0), (16762, 7.0), (16870, 7.0), (16904, 8.0), (16916, 8.0), (16934, 7.0), (17074, 10.0), (17082, 7.0), (17549, 8.0), (17831, 7.0), (18119, 8.0), (18245, 7.0), (18393, 8.0), (18397, 8.0), (18507, 7.0), (18523, 8.0), (18679, 9.0), (18767, 7.0), (18893, 6.0), (19111, 6.0), (19117, 7.0), (19151, 7.0), (19285, 8.0), (19367, 7.0), (19429, 7.0), (19685, 7.0), (19855, 7.0), (19951, 10.0), (20021, 7.0), (20509, 7.0), (20709, 7.0), (21273, 7.0), (21329, 8.0), (21339, 9.0), (21353, 8.0), (21437, 7.0), (21511, 7.0), (21659, 8.0), (21743, 7.0), (21843, 9.0), (21855, 9.0), (21881, 6.0), (21939, 7.0), (21995, 7.0), (22043, 7.0), (22265, 7.0), (22273, 6.0), (22297, 8.0), (22547, 7.0), (22663, 7.0), (22729, 7.0), (22865, 7.0), (22877, 7.0), (22961, 7.0), (23281, 9.0), (23283, 8.0), (23311, 7.0), (23321, 7.0), (23327, 8.0), (23385, 8.0), (23421, 7.0), (23623, 7.0), (23673, 7.0), (23945, 7.0), (24031, 7.0), (24037, 7.0), (24133, 7.0), (24151, 7.0), (24227, 7.0), (24231, 7.0), (24277, 8.0), (24415, 7.0), (24439, 8.0), (24455, 7.0), (24701, 8.0), (24703, 6.0), (24765, 7.0), (24833, 9.0), (24991, 7.0), (25013, 8.0), (25099, 7.0), (25161, 9.0), (25283, 6.0), (25389, 7.0), (25681, 8.0), (25731, 6.0), (25781, 8.0), (25835, 7.0), (25879, 8.0), (26243, 8.0), (26351, 6.0), (26443, 6.0), (27631, 7.0), (27633, 8.0), (27655, 7.0), (27775, 7.0), (27787, 8.0), (27821, 8.0), (27831, 10.0), (27891, 6.0), (27989, 7.0), (27991, 7.0), (28025, 9.0), (28069, 7.0), (28171, 10.0), (28223, 8.0), (28249, 8.0), (28387, 6.0), (28497, 8.0), (28617, 8.0), (28619, 7.0), (28623, 8.0), (28675, 8.0), (28701, 8.0), (28755, 7.0), (28825, 8.0), (28927, 8.0), (28977, 10.0), (28979, 7.0), (28999, 8.0), (29067, 7.0), (29093, 7.0), (29095, 6.0), (30123, 7.0), (30205, 7.0), (30240, 8.0), (30276, 10.0), (30296, 7.0), (30300, 7.0), (30307, 6.0), (30363, 6.0), (30458, 7.0), (30503, 9.0), (30544, 7.0), (30654, 9.0), (30749, 7.0), (31043, 9.0), (31163, 7.0), (31173, 7.0), (31338, 6.0), (31376, 7.0), (31404, 7.0), (31405, 7.0), (31478, 8.0), (31559, 7.0), (31580, 6.0), (31636, 7.0), (31704, 9.0), (31737, 7.0), (31741, 7.0), (31798, 7.0), (31859, 8.0), (31904, 7.0), (31964, 9.0), (32379, 6.0), (32542, 7.0), (1, 10.0), (5, 9.0), (32, 10.0), (59, 8.0), (60, 8.0), (79, 7.0), (101, 8.0), (114, 10.0), (154, 8.0), (164, 9.0), (196, 6.0), (226, 7.0), (228, 9.0), (270, 8.0), (355, 8.0), (356, 6.0), (357, 7.0), (376, 7.0), (405, 9.0), (431, 10.0), (457, 10.0), (469, 7.0), (502, 7.0), (524, 7.0), (578, 7.0), (596, 6.0), (710, 8.0), (777, 9.0), (834, 7.0), (889, 9.0), (894, 6.0), (949, 9.0), (1002, 9.0), (1004, 8.0), (1072, 7.0), (1292, 9.0), (1530, 7.0), (1686, 10.0), (1722, 6.0), (2001, 10.0), (2025, 9.0), (2131, 7.0), (2167, 9.0), (2251, 10.0), (2476, 6.0), (2787, 9.0), (2889, 7.0), (2926, 8.0), (2966, 9.0), (3087, 9.0), (3229, 8.0), (3358, 7.0), (3467, 6.0), (3616, 7.0), (3901, 10.0), (3958, 7.0), (4059, 8.0), (4106, 9.0), (4181, 10.0), (4182, 8.0), (4565, 7.0), (4835, 8.0), (5081, 10.0), (5341, 8.0), (5365, 9.0), (5630, 10.0), (5764, 6.0), (5909, 8.0), (5978, 7.0), (6007, 8.0), (6023, 6.0), (6045, 9.0), (6213, 8.0), (6351, 8.0), (6372, 9.0), (6572, 7.0), (6594, 9.0), (6637, 9.0), (6675, 10.0), (6747, 7.0), (6880, 8.0), (7054, 9.0), (7059, 9.0), (7079, 7.0), (7193, 9.0), (8086, 7.0), (8247, 8.0), (8768, 8.0), (8795, 8.0), (8857, 7.0), (8937, 7.0), (9062, 7.0), (9289, 8.0), (9366, 8.0), (9656, 9.0), (9736, 6.0), (9756, 10.0), (9982, 7.0), (10067, 8.0), (10087, 10.0), (10152, 7.0), (10165, 9.0), (10357, 9.0), (10408, 9.0), (10464, 7.0), (10711, 7.0), (10793, 7.0), (11061, 9.0), (11077, 7.0), (11241, 7.0), (11266, 7.0), (11491, 7.0), (11553, 7.0), (11597, 9.0), (11737, 8.0), (11741, 10.0), (11933, 8.0), (12291, 9.0), (12293, 6.0), (12355, 10.0), (12893, 8.0), (13469, 7.0), (13807, 6.0), (13939, 8.0), (14345, 8.0), (14353, 9.0), (14811, 7.0), (14833, 8.0), (15687, 7.0), (15689, 9.0), (16498, 9.0), (16934, 7.0), (17074, 10.0), (17082, 7.0), (18119, 9.0), (18397, 7.0), (18679, 10.0), (19285, 7.0), (21329, 9.0), (21659, 8.0), (21855, 10.0), (21939, 10.0), (21995, 9.0), (22297, 10.0), (22865, 8.0), (23385, 8.0), (24031, 8.0), (24151, 7.0), (24703, 8.0), (25099, 7.0), (27787, 8.0), (27821, 10.0), (28025, 10.0), (28701, 10.0), (30015, 8.0), (30276, 9.0), (30296, 7.0), (30544, 6.0), (31043, 9.0), (34240, 9.0)]\n"
     ]
    }
   ],
   "source": [
    "# Example usage\n",
    "user_id = 1 # Example user ID\n",
    "recommendations = make_recommendations(user_id, ratings_matrix_index, 5)\n",
    "\n",
    "print(\"recommendations\", recommendations)\n",
    "\n"
   ]
  },
  {
   "cell_type": "markdown",
   "metadata": {
    "collapsed": false,
    "pycharm": {
     "name": "#%% md\n"
    }
   },
   "source": [
    "content based RS with KNN\n"
   ]
  },
  {
   "cell_type": "code",
   "execution_count": 2,
   "metadata": {
    "collapsed": false,
    "pycharm": {
     "name": "#%%\n"
    }
   },
   "outputs": [
    {
     "data": {
      "text/plain": [
       "anime_id    0\n",
       "name        0\n",
       "genre       0\n",
       "type        0\n",
       "episodes    0\n",
       "rating      0\n",
       "members     0\n",
       "dtype: int64"
      ]
     },
     "execution_count": 2,
     "metadata": {},
     "output_type": "execute_result"
    }
   ],
   "source": [
    "anime_data = pd.read_csv('anime.csv')\n",
    "rating_data = pd.read_csv('rating.csv')\n",
    "# handle null data\n",
    "anime_data['type'] = anime_data['type'].fillna('None')\n",
    "anime_data['genre'] = anime_data['genre'].fillna('None')\n",
    "anime_data['rating'] = anime_data['rating'].fillna(anime_data['rating'].median())\n",
    "# null data for episodes is Unknown so we replace it with np.nan\n",
    "episode_ = anime_data['episodes'].replace('Unknown', np.nan)\n",
    "episode_ = episode_.fillna(episode_.median())\n",
    "\n",
    "anime_data.isnull().sum()"
   ]
  },
  {
   "cell_type": "markdown",
   "metadata": {
    "collapsed": false,
    "pycharm": {
     "name": "#%% md\n"
    }
   },
   "source": [
    "feature processing for future clustring"
   ]
  },
  {
   "cell_type": "code",
   "execution_count": 4,
   "metadata": {
    "collapsed": false,
    "pycharm": {
     "name": "#%%\n"
    }
   },
   "outputs": [
    {
     "data": {
      "text/html": [
       "<div>\n",
       "<style scoped>\n",
       "    .dataframe tbody tr th:only-of-type {\n",
       "        vertical-align: middle;\n",
       "    }\n",
       "\n",
       "    .dataframe tbody tr th {\n",
       "        vertical-align: top;\n",
       "    }\n",
       "\n",
       "    .dataframe thead th {\n",
       "        text-align: right;\n",
       "    }\n",
       "</style>\n",
       "<table border=\"1\" class=\"dataframe\">\n",
       "  <thead>\n",
       "    <tr style=\"text-align: right;\">\n",
       "      <th></th>\n",
       "      <th>Adventure</th>\n",
       "      <th>Cars</th>\n",
       "      <th>Comedy</th>\n",
       "      <th>Dementia</th>\n",
       "      <th>Demons</th>\n",
       "      <th>Drama</th>\n",
       "      <th>Ecchi</th>\n",
       "      <th>Fantasy</th>\n",
       "      <th>Game</th>\n",
       "      <th>Harem</th>\n",
       "      <th>...</th>\n",
       "      <th>Movie</th>\n",
       "      <th>Music</th>\n",
       "      <th>None</th>\n",
       "      <th>ONA</th>\n",
       "      <th>OVA</th>\n",
       "      <th>Special</th>\n",
       "      <th>TV</th>\n",
       "      <th>episodes</th>\n",
       "      <th>rating</th>\n",
       "      <th>members</th>\n",
       "    </tr>\n",
       "  </thead>\n",
       "  <tbody>\n",
       "    <tr>\n",
       "      <th>0</th>\n",
       "      <td>0</td>\n",
       "      <td>0</td>\n",
       "      <td>0</td>\n",
       "      <td>0</td>\n",
       "      <td>0</td>\n",
       "      <td>0</td>\n",
       "      <td>0</td>\n",
       "      <td>0</td>\n",
       "      <td>0</td>\n",
       "      <td>0</td>\n",
       "      <td>...</td>\n",
       "      <td>1</td>\n",
       "      <td>0</td>\n",
       "      <td>0</td>\n",
       "      <td>0</td>\n",
       "      <td>0</td>\n",
       "      <td>0</td>\n",
       "      <td>0</td>\n",
       "      <td>1</td>\n",
       "      <td>9.37</td>\n",
       "      <td>200630</td>\n",
       "    </tr>\n",
       "    <tr>\n",
       "      <th>1</th>\n",
       "      <td>1</td>\n",
       "      <td>0</td>\n",
       "      <td>0</td>\n",
       "      <td>0</td>\n",
       "      <td>0</td>\n",
       "      <td>1</td>\n",
       "      <td>0</td>\n",
       "      <td>1</td>\n",
       "      <td>0</td>\n",
       "      <td>0</td>\n",
       "      <td>...</td>\n",
       "      <td>0</td>\n",
       "      <td>0</td>\n",
       "      <td>0</td>\n",
       "      <td>0</td>\n",
       "      <td>0</td>\n",
       "      <td>0</td>\n",
       "      <td>1</td>\n",
       "      <td>64</td>\n",
       "      <td>9.26</td>\n",
       "      <td>793665</td>\n",
       "    </tr>\n",
       "    <tr>\n",
       "      <th>2</th>\n",
       "      <td>0</td>\n",
       "      <td>0</td>\n",
       "      <td>1</td>\n",
       "      <td>0</td>\n",
       "      <td>0</td>\n",
       "      <td>0</td>\n",
       "      <td>0</td>\n",
       "      <td>0</td>\n",
       "      <td>0</td>\n",
       "      <td>0</td>\n",
       "      <td>...</td>\n",
       "      <td>0</td>\n",
       "      <td>0</td>\n",
       "      <td>0</td>\n",
       "      <td>0</td>\n",
       "      <td>0</td>\n",
       "      <td>0</td>\n",
       "      <td>1</td>\n",
       "      <td>51</td>\n",
       "      <td>9.25</td>\n",
       "      <td>114262</td>\n",
       "    </tr>\n",
       "    <tr>\n",
       "      <th>3</th>\n",
       "      <td>0</td>\n",
       "      <td>0</td>\n",
       "      <td>0</td>\n",
       "      <td>0</td>\n",
       "      <td>0</td>\n",
       "      <td>0</td>\n",
       "      <td>0</td>\n",
       "      <td>0</td>\n",
       "      <td>0</td>\n",
       "      <td>0</td>\n",
       "      <td>...</td>\n",
       "      <td>0</td>\n",
       "      <td>0</td>\n",
       "      <td>0</td>\n",
       "      <td>0</td>\n",
       "      <td>0</td>\n",
       "      <td>0</td>\n",
       "      <td>1</td>\n",
       "      <td>24</td>\n",
       "      <td>9.17</td>\n",
       "      <td>673572</td>\n",
       "    </tr>\n",
       "    <tr>\n",
       "      <th>4</th>\n",
       "      <td>0</td>\n",
       "      <td>0</td>\n",
       "      <td>1</td>\n",
       "      <td>0</td>\n",
       "      <td>0</td>\n",
       "      <td>0</td>\n",
       "      <td>0</td>\n",
       "      <td>0</td>\n",
       "      <td>0</td>\n",
       "      <td>0</td>\n",
       "      <td>...</td>\n",
       "      <td>0</td>\n",
       "      <td>0</td>\n",
       "      <td>0</td>\n",
       "      <td>0</td>\n",
       "      <td>0</td>\n",
       "      <td>0</td>\n",
       "      <td>1</td>\n",
       "      <td>51</td>\n",
       "      <td>9.16</td>\n",
       "      <td>151266</td>\n",
       "    </tr>\n",
       "  </tbody>\n",
       "</table>\n",
       "<p>5 rows × 93 columns</p>\n",
       "</div>"
      ],
      "text/plain": [
       "    Adventure   Cars   Comedy   Dementia   Demons   Drama   Ecchi   Fantasy  \\\n",
       "0           0      0        0          0        0       0       0         0   \n",
       "1           1      0        0          0        0       1       0         1   \n",
       "2           0      0        1          0        0       0       0         0   \n",
       "3           0      0        0          0        0       0       0         0   \n",
       "4           0      0        1          0        0       0       0         0   \n",
       "\n",
       "    Game   Harem  ...  Movie  Music  None  ONA  OVA  Special  TV  episodes  \\\n",
       "0      0       0  ...      1      0     0    0    0        0   0         1   \n",
       "1      0       0  ...      0      0     0    0    0        0   1        64   \n",
       "2      0       0  ...      0      0     0    0    0        0   1        51   \n",
       "3      0       0  ...      0      0     0    0    0        0   1        24   \n",
       "4      0       0  ...      0      0     0    0    0        0   1        51   \n",
       "\n",
       "   rating  members  \n",
       "0    9.37   200630  \n",
       "1    9.26   793665  \n",
       "2    9.25   114262  \n",
       "3    9.17   673572  \n",
       "4    9.16   151266  \n",
       "\n",
       "[5 rows x 93 columns]"
      ]
     },
     "execution_count": 4,
     "metadata": {},
     "output_type": "execute_result"
    }
   ],
   "source": [
    "type_ = pd.get_dummies(anime_data['type'])\n",
    "genre_ = anime_data['genre'].str.get_dummies(sep=',')\n",
    "X = pd.concat([genre_, type_, episode_, anime_data['rating'], anime_data['members']],axis=1)\n",
    "X.head()"
   ]
  },
  {
   "cell_type": "code",
   "execution_count": 5,
   "metadata": {
    "collapsed": false,
    "pycharm": {
     "name": "#%%\n"
    }
   },
   "outputs": [],
   "source": [
    "# scale value in table to match other vals in other columns\n",
    "\n",
    "scaled = MaxAbsScaler()\n",
    "X = scaled.fit_transform(X)"
   ]
  },
  {
   "cell_type": "code",
   "execution_count": 11,
   "metadata": {
    "collapsed": false,
    "pycharm": {
     "name": "#%%\n"
    }
   },
   "outputs": [],
   "source": [
    "# n_neighbors specify total number of recommendation -> we set it to 11 to get 10 similar anime\n",
    "recommendations = NearestNeighbors(n_neighbors=11, algorithm='ball_tree').fit(X)\n",
    "recommendations.kneighbors(X)\n",
    "\n",
    "anime_indices = recommendations.kneighbors(X)[1]"
   ]
  },
  {
   "cell_type": "code",
   "execution_count": 13,
   "metadata": {
    "collapsed": false,
    "pycharm": {
     "name": "#%%\n"
    }
   },
   "outputs": [],
   "source": [
    "def get_index(x):\n",
    "    # gives index for the anime\n",
    "    return anime_data[anime_data['name']==x].index.tolist()[0]\n"
   ]
  },
  {
   "cell_type": "code",
   "execution_count": 14,
   "metadata": {
    "collapsed": false,
    "pycharm": {
     "name": "#%%\n"
    }
   },
   "outputs": [],
   "source": [
    "def recommend(name):\n",
    "    print('Here are 10 anime similar to', name, ':' '\\n')\n",
    "    index = get_index(name)\n",
    "\n",
    "\n",
    "    for i in anime_indices[index][1:]:\n",
    "            print(anime_data.iloc[i]['name'],\n",
    "                  '\\n' 'Genre: ', anime_data.iloc[i]['genre'],\n",
    "                  '\\n' 'Episode count: ', anime_data.iloc[i]['episodes'],\n",
    "                  '\\n' 'Rating out of 10:', anime_data.iloc[i]['rating'], '\\n')"
   ]
  },
  {
   "cell_type": "code",
   "execution_count": 15,
   "metadata": {
    "collapsed": false,
    "pycharm": {
     "name": "#%%\n"
    }
   },
   "outputs": [
    {
     "name": "stdout",
     "output_type": "stream",
     "text": [
      "Here are 10 anime similar to Monster :\n",
      "\n",
      "Mousou Dairinin \n",
      "Genre:  Drama, Mystery, Police, Psychological, Supernatural, Thriller \n",
      "Episode count:  13 \n",
      "Rating out of 10: 7.74 \n",
      "\n",
      "Mayoiga \n",
      "Genre:  Drama, Horror, Mystery, Psychological \n",
      "Episode count:  12 \n",
      "Rating out of 10: 5.8 \n",
      "\n",
      "Death Parade \n",
      "Genre:  Drama, Game, Mystery, Psychological, Thriller \n",
      "Episode count:  12 \n",
      "Rating out of 10: 8.33 \n",
      "\n",
      "Aoi Bungaku Series \n",
      "Genre:  Drama, Historical, Psychological, Seinen, Thriller \n",
      "Episode count:  12 \n",
      "Rating out of 10: 7.9 \n",
      "\n",
      "Night Head Genesis \n",
      "Genre:  Drama, Horror, Mystery, Psychological, Supernatural \n",
      "Episode count:  24 \n",
      "Rating out of 10: 6.88 \n",
      "\n",
      "Narutaru: Mukuro Naru Hoshi Tama Taru Ko \n",
      "Genre:  Drama, Seinen, Thriller \n",
      "Episode count:  13 \n",
      "Rating out of 10: 6.28 \n",
      "\n",
      "Rainbow: Nisha Rokubou no Shichinin \n",
      "Genre:  Drama, Historical, Seinen, Thriller \n",
      "Episode count:  26 \n",
      "Rating out of 10: 8.64 \n",
      "\n",
      "Re:Zero kara Hajimeru Isekai Seikatsu \n",
      "Genre:  Drama, Fantasy, Psychological, Thriller \n",
      "Episode count:  25 \n",
      "Rating out of 10: 8.64 \n",
      "\n",
      "Danganronpa: Kibou no Gakuen to Zetsubou no Koukousei The Animation \n",
      "Genre:  Action, Horror, Mystery, Psychological \n",
      "Episode count:  13 \n",
      "Rating out of 10: 7.49 \n",
      "\n",
      "Gyakkyou Burai Kaiji: Ultimate Survivor \n",
      "Genre:  Game, Psychological, Seinen, Thriller \n",
      "Episode count:  26 \n",
      "Rating out of 10: 8.33 \n",
      "\n"
     ]
    }
   ],
   "source": [
    "recommend(\"Monster\")"
   ]
  }
 ],
 "metadata": {
  "kernelspec": {
   "display_name": "Python 3",
   "language": "python",
   "name": "python3"
  },
  "language_info": {
   "codemirror_mode": {
    "name": "ipython",
    "version": 3
   },
   "file_extension": ".py",
   "mimetype": "text/x-python",
   "name": "python",
   "nbconvert_exporter": "python",
   "pygments_lexer": "ipython3",
   "version": "3.10.4"
  },
  "orig_nbformat": 4
 },
 "nbformat": 4,
 "nbformat_minor": 2
}
